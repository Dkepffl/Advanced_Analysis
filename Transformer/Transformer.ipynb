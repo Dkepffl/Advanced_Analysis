{
  "nbformat": 4,
  "nbformat_minor": 0,
  "metadata": {
    "colab": {
      "provenance": [],
      "collapsed_sections": [
        "qhsbaa7nn0Vu",
        "DjLRqsadRSVv",
        "osTdOJueRNmo",
        "1c9YUo0mn-t2",
        "IeXo-hitgJFk",
        "Vwa9EGy-mqyG"
      ],
      "authorship_tag": "ABX9TyMd/4Jvlw3i2APeZWMTd/9s",
      "include_colab_link": true
    },
    "kernelspec": {
      "name": "python3",
      "display_name": "Python 3"
    },
    "language_info": {
      "name": "python"
    }
  },
  "cells": [
    {
      "cell_type": "markdown",
      "metadata": {
        "id": "view-in-github",
        "colab_type": "text"
      },
      "source": [
        "<a href=\"https://colab.research.google.com/github/Dkepffl/Advanced_Analysis/blob/main/Transformer/Transformer.ipynb\" target=\"_parent\"><img src=\"https://colab.research.google.com/assets/colab-badge.svg\" alt=\"Open In Colab\"/></a>"
      ]
    },
    {
      "cell_type": "markdown",
      "source": [
        "## **Import Packages**"
      ],
      "metadata": {
        "id": "8w_8koWBa6G7"
      }
    },
    {
      "cell_type": "code",
      "source": [
        "import torch\n",
        "import torch.nn as nn\n",
        "import torch.nn.functional as F\n",
        "\n",
        "import torchvision.transforms as transforms\n",
        "from torchvision.datasets import CIFAR100\n",
        "from torch.utils.data import DataLoader\n",
        "\n",
        "import numpy as np"
      ],
      "metadata": {
        "id": "-OTuX_9EbES5"
      },
      "execution_count": 1,
      "outputs": []
    },
    {
      "cell_type": "markdown",
      "source": [
        "## **Data loader**"
      ],
      "metadata": {
        "id": "SJJSOhykbFbu"
      }
    },
    {
      "cell_type": "code",
      "source": [
        "# data loader\n",
        "path = './datasets/'\n",
        "\n",
        "# Data transform Setting\n",
        "transform = transforms.Compose([transforms.ToTensor()]) # Tensor 변환. 다른 전처리X\n",
        "\n",
        "# Load data\n",
        "train_data = CIFAR100(root=path,train=True,transform=transform,download=True)\n",
        "test_data = CIFAR100(root=path,train=False,transform=transform,download=True)\n",
        "\n",
        "batch_size = 100\n",
        "\n",
        "train_loader = DataLoader(dataset=train_data,batch_size=batch_size,shuffle=True,num_workers=0)\n",
        "test_loader = DataLoader(dataset=test_data,batch_size=batch_size,shuffle=False,num_workers=0)"
      ],
      "metadata": {
        "id": "s_iY1Eo3bNlx",
        "colab": {
          "base_uri": "https://localhost:8080/"
        },
        "outputId": "22cb4f20-35a1-46ad-a85c-fa533318e76e"
      },
      "execution_count": null,
      "outputs": [
        {
          "output_type": "stream",
          "name": "stdout",
          "text": [
            "Downloading https://www.cs.toronto.edu/~kriz/cifar-100-python.tar.gz to ./datasets/cifar-100-python.tar.gz\n"
          ]
        },
        {
          "output_type": "stream",
          "name": "stderr",
          "text": [
            "100%|██████████| 169M/169M [00:04<00:00, 39.3MB/s]\n"
          ]
        },
        {
          "output_type": "stream",
          "name": "stdout",
          "text": [
            "Extracting ./datasets/cifar-100-python.tar.gz to ./datasets/\n",
            "Files already downloaded and verified\n"
          ]
        }
      ]
    },
    {
      "cell_type": "code",
      "source": [
        "input_shape = train_data[0][0].shape # 출력 결과 : [3, 32, 32]\n",
        "output_shape = len(train_data.classes) # 출력 결과 : 100"
      ],
      "metadata": {
        "id": "XWjsTu3dlKcI"
      },
      "execution_count": null,
      "outputs": []
    },
    {
      "cell_type": "markdown",
      "source": [
        "## **Transformer 구현**"
      ],
      "metadata": {
        "id": "QM2IkmKdlYfM"
      }
    },
    {
      "cell_type": "code",
      "source": [
        "##########################################\n",
        "#### there is nothing to do upto here ####\n",
        "##########################################"
      ],
      "metadata": {
        "id": "i41zWBTWbOie"
      },
      "execution_count": null,
      "outputs": []
    },
    {
      "cell_type": "markdown",
      "source": [
        "### **Positional Encoding**\n",
        "```python\n",
        "# argument 정리\n",
        "pe = PositionalEncoding(device, max_len, d_model)\n",
        "pos_emb = pe(x)\n",
        "```"
      ],
      "metadata": {
        "id": "qhsbaa7nn0Vu"
      }
    },
    {
      "cell_type": "code",
      "source": [
        "# refer to Section 3.5 in the paper\n",
        "class PositionalEncoding(nn.Module):\n",
        "    def __init__(self, device, max_len=512, d_model=16):\n",
        "        super().__init__()\n",
        "\n",
        "        self.device = device\n",
        "        self.max_len = max_len\n",
        "        self.d_model = d_model\n",
        "\n",
        "        # max_len만큼 만들고 x의 seq_len만큼 잘라서 사용\n",
        "        self.pos_enc = torch.zeros(self.max_len, self.d_model,requires_grad=False, device=self.device)\n",
        "        # or self.pos_enc.to(self.device)\n",
        "\n",
        "        # Position Encoding Matrix\n",
        "        pos = torch.arange(0, self.max_len, dtype=torch.float).unsqueeze(-1,) # unsqueeze :->(max_len,1)\n",
        "        ii = torch.arange(0, self.d_model, step=2, dtype=torch.float) # 2i. (1, self.d_model)\n",
        "\n",
        "        '''\n",
        "        논문을 그대로 따르려면\n",
        "        i = torch.arange(0, self.d_model//2, step=1, dtype=torch.float)\n",
        "\n",
        "        self.pos_enc[:,0::2] = torch.sin(pos/(10000**((2*i)/self.d_model)))\n",
        "        self.pos_enc[:,1::2] = torch.cos(pos/(10000**((2*i)/self.d_model)))\n",
        "\n",
        "        torch.arange() 메서드 안에서 self.d_model//2 계산하는 것이 싫어서 아예 2i를 generate\n",
        "        -> Q. O(n)을 고려할 때 좋은 방법은?\n",
        "        '''\n",
        "        self.pos_enc[:,0::2] = torch.sin(pos/(10000**(ii/self.d_model)))\n",
        "        self.pos_enc[:,1::2] = torch.cos(pos/(10000**(ii/self.d_model)))\n",
        "\n",
        "    def forward(self,x):\n",
        "        \"\"\"\n",
        "        x: transformed input embedding where x.shape = [batch_size, seq_len, data_dim]\n",
        "        \"\"\"\n",
        "        seq_len = x.shape[1]\n",
        "        pos_emb = self.pos_enc[:seq_len,:]\n",
        "\n",
        "        return pos_emb # input embedding + pos_emb는 어디서 해야 하지?"
      ],
      "metadata": {
        "id": "hH8H_dWbn8lm"
      },
      "execution_count": null,
      "outputs": []
    },
    {
      "cell_type": "markdown",
      "source": [
        "#### **idea**"
      ],
      "metadata": {
        "id": "DjLRqsadRSVv"
      }
    },
    {
      "cell_type": "code",
      "source": [
        "# To make Position Encoding Matrix\n",
        "temp = torch.zeros(4,4,requires_grad=False)\n",
        "\n",
        "temp2 = torch.arange(4).unsqueeze(-1,) # row == pos\n",
        "temp3 = torch.arange(0, 4//2, 1) # column == i\n",
        "\n",
        "temp[:,0::2] = torch.sin(temp2/(10000**((2*temp3)/4)))\n",
        "temp[:,1::2] = torch.cos(temp2/(10000**((2*temp3)/4)))\n",
        "\n",
        "temp"
      ],
      "metadata": {
        "colab": {
          "base_uri": "https://localhost:8080/"
        },
        "id": "yyxUQ5xnMWux",
        "outputId": "679d2578-3b7f-4a6d-faec-0f7d1620692d"
      },
      "execution_count": 28,
      "outputs": [
        {
          "output_type": "execute_result",
          "data": {
            "text/plain": [
              "tensor([[ 0.0000,  1.0000,  0.0000,  1.0000],\n",
              "        [ 0.8415,  0.5403,  0.0100,  0.9999],\n",
              "        [ 0.9093, -0.4161,  0.0200,  0.9998],\n",
              "        [ 0.1411, -0.9900,  0.0300,  0.9996]])"
            ]
          },
          "metadata": {},
          "execution_count": 28
        }
      ]
    },
    {
      "cell_type": "code",
      "source": [
        "# Version 2\n",
        "temp = torch.zeros(4,4,requires_grad=False)\n",
        "\n",
        "temp2 = torch.arange(4).unsqueeze(-1,) # row == pos\n",
        "temp3 = torch.arange(0, 4, 2) # column == 2*i\n",
        "\n",
        "temp[:,0::2] = torch.sin(temp2/(10000**((temp3)/4)))\n",
        "temp[:,1::2] = torch.cos(temp2/(10000**((temp3)/4)))\n",
        "\n",
        "temp"
      ],
      "metadata": {
        "colab": {
          "base_uri": "https://localhost:8080/"
        },
        "id": "jWEfsHiFVUCf",
        "outputId": "605f0284-8fd4-422e-d6d5-886e6d90cc06"
      },
      "execution_count": 29,
      "outputs": [
        {
          "output_type": "execute_result",
          "data": {
            "text/plain": [
              "tensor([[ 0.0000,  1.0000,  0.0000,  1.0000],\n",
              "        [ 0.8415,  0.5403,  0.0100,  0.9999],\n",
              "        [ 0.9093, -0.4161,  0.0200,  0.9998],\n",
              "        [ 0.1411, -0.9900,  0.0300,  0.9996]])"
            ]
          },
          "metadata": {},
          "execution_count": 29
        }
      ]
    },
    {
      "cell_type": "markdown",
      "source": [
        "두 코드 결과 동일"
      ],
      "metadata": {
        "id": "2PddcDmsYvRH"
      }
    },
    {
      "cell_type": "markdown",
      "source": [
        "#### **Reference**"
      ],
      "metadata": {
        "id": "osTdOJueRNmo"
      }
    },
    {
      "cell_type": "markdown",
      "source": [
        "- 논문에서 참고하라고 한 논문\n",
        "  - [Jonas Gehring, Michael Auli, David Grangier, Denis Yarats, and Yann N. Dauphin. Convolu\n",
        "tional sequence to sequence learning. arXiv preprint arXiv:1705.03122v2, 2017.](https://arxiv.org/pdf/1705.03122)"
      ],
      "metadata": {
        "id": "haWPDajHWM5y"
      }
    },
    {
      "cell_type": "markdown",
      "source": [
        "### **ScaledDotProductAttention**\n",
        "$$Attention(Q, K, V) = softmax(\\frac{QK^{T}}{\\sqrt {d_{k}}})V$$\n",
        "```python\n",
        "attention = ScaledDotProductAttention()\n",
        "attention_value = attention(q, k, v, mask=None)\n",
        "```"
      ],
      "metadata": {
        "id": "1c9YUo0mn-t2"
      }
    },
    {
      "cell_type": "code",
      "source": [
        "# refer to Section 3.2.1 and Fig 2 (left) in the paper\n",
        "class ScaledDotProductAttention(nn.Module):\n",
        "    def __init__(self):\n",
        "        super().__init__()\n",
        "\n",
        "        self.softmax = nn.Softmax()\n",
        "\n",
        "    def forward(self,q,k,v,mask=None):\n",
        "        # compute attention value based on transformed query, key, value where mask is given conditionally\n",
        "        \"\"\"\n",
        "        q, k, v = transformed query, key, value\n",
        "        q.shape, k.shape, v.shpae = [batch_size, num_head, seq_len, d=d_model/num_head]\n",
        "        mask = masking matrix, if the index has value False, kill the value; else, leave the value\n",
        "        \"\"\"\n",
        "        k_t =  torch.transpose(k, -1, -2) # [batch_size, num_head, d, seq_len]\n",
        "\n",
        "        numerator = torch.matmul(q, k_t)\n",
        "        denominator = torch.sqrt(q.shape[-1]) # d = q.shape[-1]\n",
        "\n",
        "        attention_value = numerator/denominator\n",
        "\n",
        "        if mask != None:\n",
        "          # if the index has value False, kill the value; else, leave the value\n",
        "          # 논문에서는 -inf\n",
        "          attention_value = torch.mul(mask, attention_value)\n",
        "\n",
        "        attention_value = self.softmax(attention_value)\n",
        "        attention_value = torch.matmul(attention_value,v)\n",
        "\n",
        "        return attention_value"
      ],
      "metadata": {
        "id": "Onq2dngLoD-u"
      },
      "execution_count": null,
      "outputs": []
    },
    {
      "cell_type": "markdown",
      "source": [
        "#### **idea**"
      ],
      "metadata": {
        "id": "IeXo-hitgJFk"
      }
    },
    {
      "cell_type": "code",
      "source": [
        "temp_mask=torch.tensor([[True, False, True], [False, True, False]], dtype=torch.bool)\n",
        "temp_x = torch.tensor([[1,2,3],[4,5,6]], dtype = torch.int)\n",
        "\n",
        "temp_ans = torch.tensor([[1,0, 3],[0, 5, 0]], dtype=torch.int)\n",
        "temp_ans"
      ],
      "metadata": {
        "colab": {
          "base_uri": "https://localhost:8080/"
        },
        "id": "iEiAImJ2fN7s",
        "outputId": "1906993e-56b2-44be-80c5-779129cf01ec"
      },
      "execution_count": 54,
      "outputs": [
        {
          "output_type": "execute_result",
          "data": {
            "text/plain": [
              "tensor([[1, 0, 3],\n",
              "        [0, 5, 0]], dtype=torch.int32)"
            ]
          },
          "metadata": {},
          "execution_count": 54
        }
      ]
    },
    {
      "cell_type": "code",
      "source": [
        "temp_x[temp_mask]"
      ],
      "metadata": {
        "colab": {
          "base_uri": "https://localhost:8080/"
        },
        "id": "tKril4xLfef5",
        "outputId": "e2ab2c03-1a0c-445c-e67c-5726168725c7"
      },
      "execution_count": 39,
      "outputs": [
        {
          "output_type": "execute_result",
          "data": {
            "text/plain": [
              "tensor([2, 2, 3], dtype=torch.int32)"
            ]
          },
          "metadata": {},
          "execution_count": 39
        }
      ]
    },
    {
      "cell_type": "code",
      "source": [
        "torch.mul(temp_mask, temp_x) # elementwise"
      ],
      "metadata": {
        "colab": {
          "base_uri": "https://localhost:8080/"
        },
        "id": "wsYzxlBFhRla",
        "outputId": "3275a154-26d8-4516-eb77-44756cf595c2"
      },
      "execution_count": 52,
      "outputs": [
        {
          "output_type": "execute_result",
          "data": {
            "text/plain": [
              "tensor([[1, 0, 3],\n",
              "        [0, 5, 0]], dtype=torch.int32)"
            ]
          },
          "metadata": {},
          "execution_count": 52
        }
      ]
    },
    {
      "cell_type": "markdown",
      "source": [
        "### **Multi Head Attention(수정 필요)**\n",
        "$$MultiHead(Q, K, V) = Concat(head_1, ... , head_h)W^{O}$$\n",
        "\n",
        "where $  head_i = Attention(QW^{Q}_{i}, QW^{K}_{i}, QW^{V}_{i})$\n",
        "\n",
        "```python\n",
        "multiheadattention = MultiHeadAttention(d_model, num_head)\n",
        "output = multiheadattention(q, k, v, mask=None)\n",
        "```"
      ],
      "metadata": {
        "id": "sJBlibJSoGRH"
      }
    },
    {
      "cell_type": "code",
      "source": [
        "# refer to Section 3.2.2 and Fig 2 (right) in the paper\n",
        "class MultiHeadAttention(nn.Module):\n",
        "    def __init__(self,d_model=16,num_head=4):\n",
        "        super().__init__()\n",
        "        # fill out the rest\n",
        "        assert d_model % num_head == 0, \"check if d_model is divisible by num_head\"\n",
        "\n",
        "        # dimension\n",
        "        self.d_model = d_model\n",
        "        self.num_head = num_head # head 개수 : h\n",
        "        self.d = d_model//num_head # d_k = d_v = d_model/h\n",
        "\n",
        "        # module\n",
        "        self.attention = ScaledDotProductAttention()\n",
        "\n",
        "        # W_i : learnable\n",
        "        self.w_q = nn.Linear(self.d_model, self.d_model)\n",
        "        self.w_k = nn.Linear(self.d_model, self.d_model)\n",
        "        self.w_v = nn.Linear(self.d_model, self.d_model)\n",
        "\n",
        "        self.w_o = nn.Linear(self.d*self.num_head, self.d_model)\n",
        "\n",
        "    def forward(self,q,k,v,mask=None):\n",
        "        # fill out here\n",
        "        # compute multi-head attention value\n",
        "        # here, query, key, value are pre-transformed, so you need to transfrom them in this module\n",
        "        \"\"\"\n",
        "        q, k, v = pre-transformed query, key, value\n",
        "        q.shape, k.shape, v.shpae = [batch_size, seq_len, d_model]\n",
        "        mask = masking matrix, if the index has value False, kill the value; else, leave the value\n",
        "        \"\"\"\n",
        "        batch_size = q.shape[0]\n",
        "        seq_len = q.shape[1]\n",
        "\n",
        "        QW = self.w_q(q) # [batch_size, seq_len, d_model]\n",
        "        KW = self.w_k(k)\n",
        "        VW = self.w_v(v)\n",
        "        '''\n",
        "        Note that\n",
        "\n",
        "        ScaledDotProductAttention의 input shape : [batch_size, num_head, seq_len, d]\n",
        "\n",
        "        현재 : [batch_size, seq_len, d_model]\n",
        "        reshape -> [batch_size, seq_len, num_head, d]\n",
        "        transpose(1,2) -> [batch_size, num_head, seq_len, d]\n",
        "\n",
        "        Colab에서 view()도 비슷한 기능이라고 추천하는데 안 써봐서 reshape 씀.\n",
        "        '''\n",
        "        QW = QW.reshape((batch_size, seq_len, self.num_head, self.d)).transpose(1,2)\n",
        "        KW = KW.reshape((batch_size, seq_len, self.num_head, self.d)).transpose(1,2)\n",
        "        VW = VW.reshape((batch_size, seq_len, self.num_head, self.d)).transpose(1,2)\n",
        "\n",
        "        head = self.attention(QW, KW, VW, mask)\n",
        "        con_head = head.transpose(1,2).contiguous().view(batch_size, -1, self.d_model) # -> [batch_size, -1 ,d_model]\n",
        "\n",
        "        output = self.w_o(con_head)\n",
        "\n",
        "        return output"
      ],
      "metadata": {
        "id": "-JD0KXDtoO7M"
      },
      "execution_count": null,
      "outputs": []
    },
    {
      "cell_type": "markdown",
      "source": [
        "#### **Idea**"
      ],
      "metadata": {
        "id": "hdljDJlGp0kl"
      }
    },
    {
      "cell_type": "code",
      "source": [
        "temp=torch.arange(0, 120).reshape((4,5,6))\n",
        "temp"
      ],
      "metadata": {
        "colab": {
          "base_uri": "https://localhost:8080/"
        },
        "id": "Ijc9zpmBn15N",
        "outputId": "7e2f2dae-4fbf-4468-e129-fc6d8a055a41"
      },
      "execution_count": 61,
      "outputs": [
        {
          "output_type": "execute_result",
          "data": {
            "text/plain": [
              "tensor([[[  0,   1,   2,   3,   4,   5],\n",
              "         [  6,   7,   8,   9,  10,  11],\n",
              "         [ 12,  13,  14,  15,  16,  17],\n",
              "         [ 18,  19,  20,  21,  22,  23],\n",
              "         [ 24,  25,  26,  27,  28,  29]],\n",
              "\n",
              "        [[ 30,  31,  32,  33,  34,  35],\n",
              "         [ 36,  37,  38,  39,  40,  41],\n",
              "         [ 42,  43,  44,  45,  46,  47],\n",
              "         [ 48,  49,  50,  51,  52,  53],\n",
              "         [ 54,  55,  56,  57,  58,  59]],\n",
              "\n",
              "        [[ 60,  61,  62,  63,  64,  65],\n",
              "         [ 66,  67,  68,  69,  70,  71],\n",
              "         [ 72,  73,  74,  75,  76,  77],\n",
              "         [ 78,  79,  80,  81,  82,  83],\n",
              "         [ 84,  85,  86,  87,  88,  89]],\n",
              "\n",
              "        [[ 90,  91,  92,  93,  94,  95],\n",
              "         [ 96,  97,  98,  99, 100, 101],\n",
              "         [102, 103, 104, 105, 106, 107],\n",
              "         [108, 109, 110, 111, 112, 113],\n",
              "         [114, 115, 116, 117, 118, 119]]])"
            ]
          },
          "metadata": {},
          "execution_count": 61
        }
      ]
    },
    {
      "cell_type": "code",
      "source": [
        "temp.reshape((4,-1,2,3))"
      ],
      "metadata": {
        "colab": {
          "base_uri": "https://localhost:8080/"
        },
        "id": "IrNFVUZFplaz",
        "outputId": "e047e3e6-b3f2-462d-b432-d579f7bb0111"
      },
      "execution_count": 65,
      "outputs": [
        {
          "output_type": "execute_result",
          "data": {
            "text/plain": [
              "tensor([[[[  0,   1,   2],\n",
              "          [  3,   4,   5]],\n",
              "\n",
              "         [[  6,   7,   8],\n",
              "          [  9,  10,  11]],\n",
              "\n",
              "         [[ 12,  13,  14],\n",
              "          [ 15,  16,  17]],\n",
              "\n",
              "         [[ 18,  19,  20],\n",
              "          [ 21,  22,  23]],\n",
              "\n",
              "         [[ 24,  25,  26],\n",
              "          [ 27,  28,  29]]],\n",
              "\n",
              "\n",
              "        [[[ 30,  31,  32],\n",
              "          [ 33,  34,  35]],\n",
              "\n",
              "         [[ 36,  37,  38],\n",
              "          [ 39,  40,  41]],\n",
              "\n",
              "         [[ 42,  43,  44],\n",
              "          [ 45,  46,  47]],\n",
              "\n",
              "         [[ 48,  49,  50],\n",
              "          [ 51,  52,  53]],\n",
              "\n",
              "         [[ 54,  55,  56],\n",
              "          [ 57,  58,  59]]],\n",
              "\n",
              "\n",
              "        [[[ 60,  61,  62],\n",
              "          [ 63,  64,  65]],\n",
              "\n",
              "         [[ 66,  67,  68],\n",
              "          [ 69,  70,  71]],\n",
              "\n",
              "         [[ 72,  73,  74],\n",
              "          [ 75,  76,  77]],\n",
              "\n",
              "         [[ 78,  79,  80],\n",
              "          [ 81,  82,  83]],\n",
              "\n",
              "         [[ 84,  85,  86],\n",
              "          [ 87,  88,  89]]],\n",
              "\n",
              "\n",
              "        [[[ 90,  91,  92],\n",
              "          [ 93,  94,  95]],\n",
              "\n",
              "         [[ 96,  97,  98],\n",
              "          [ 99, 100, 101]],\n",
              "\n",
              "         [[102, 103, 104],\n",
              "          [105, 106, 107]],\n",
              "\n",
              "         [[108, 109, 110],\n",
              "          [111, 112, 113]],\n",
              "\n",
              "         [[114, 115, 116],\n",
              "          [117, 118, 119]]]])"
            ]
          },
          "metadata": {},
          "execution_count": 65
        }
      ]
    },
    {
      "cell_type": "markdown",
      "source": [
        "### **PositionwiseFeedForwardNetwork**"
      ],
      "metadata": {
        "id": "wkhuFLZkoTeV"
      }
    },
    {
      "cell_type": "code",
      "source": [
        "# refer to Section 3.3 in the paper\n",
        "class PositionwiseFeedForwardNetwork(nn.Module):\n",
        "    def __init__(self,d_model=16,d_ff=32):\n",
        "        super().__init__()\n",
        "        # fill out here\n",
        "        self.d_model = d_model\n",
        "        self.d_ff = d_ff\n",
        "        self.linear1 = nn.Linear(self.d_model, self.d_ff) # W1\n",
        "        self.linear2 = nn.Linear(self.d_ff, self.d_model) # W2\n",
        "\n",
        "    def forward(self,x):\n",
        "        # fill out here\n",
        "        temp = self.linear1(x)\n",
        "        temp = torch.ReLU(0, temp) # max(0, xW1 + b1) : ReLU 아닌가?\n",
        "        output = self.linear2(temp)\n",
        "\n",
        "        return output"
      ],
      "metadata": {
        "id": "suaqHOhGoXcA"
      },
      "execution_count": null,
      "outputs": []
    },
    {
      "cell_type": "markdown",
      "source": [
        "### **Masking**"
      ],
      "metadata": {
        "id": "nKLxEC8AoYr6"
      }
    },
    {
      "cell_type": "markdown",
      "source": [
        "This\n",
        " masking, combined with fact that the output embeddings are offset by one position, ensures that the\n",
        " predictions for position i can depend only on the known outputs at positions less than i."
      ],
      "metadata": {
        "id": "c_BJUtzKH-7w"
      }
    },
    {
      "cell_type": "markdown",
      "source": [
        "네?\n",
        "이거 랜덤입니까? True, False로 이루어진?"
      ],
      "metadata": {
        "id": "Rbo1l1BXH_pz"
      }
    },
    {
      "cell_type": "code",
      "source": [
        "class Masking(nn.Module):\n",
        "    def __init__(self,device):\n",
        "        super().__init__()\n",
        "        # fill out here\n",
        "\n",
        "    def forward(self,x):\n",
        "        # fill out here\n",
        "        \"\"\"\n",
        "        x.shape = [batch_size, seq_len, data_dim]\n",
        "        \"\"\"\n",
        "\n",
        "        return mask"
      ],
      "metadata": {
        "id": "iIIigiv1od-J"
      },
      "execution_count": null,
      "outputs": []
    },
    {
      "cell_type": "markdown",
      "source": [
        "### **Layer Normalization**\n",
        "- [Pytorch LayerNorm Document](https://pytorch.org/docs/stable/generated/torch.nn.LayerNorm.html)"
      ],
      "metadata": {
        "id": "lOo3enKnofCX"
      }
    },
    {
      "cell_type": "code",
      "source": [
        "# do not use torch.nn.LayerNorm\n",
        "class LayerNormalization(nn.Module):\n",
        "    def __init__(self, d_model=16, eps=1e-5):\n",
        "        super().__init__()\n",
        "        # fill out here\n",
        "        self.d_model = d_model\n",
        "        self.eps = eps # epsilon 이겠지?\n",
        "        self.gamma = nn.Parameter(torch.ones(self.d_model)) # torch document 는 1로 initialize...\n",
        "        self.beta = nn.Parameter(torch.zeros(self.d_model)) # torch document 는 0으로 initialize...\n",
        "\n",
        "    def forward(self,x):\n",
        "        # fill out here\n",
        "        temp = x-torch.mean(x)\n",
        "        temp = temp/(torch.sqrt(torch.var(x, unbiased=False) + self.eps))\n",
        "        normed = temp*self.gamma + self.beta # gamma, beta : learnable parameter... 라고 써있는데요?\n",
        "\n",
        "        return normed"
      ],
      "metadata": {
        "id": "UK-sk73UorDq"
      },
      "execution_count": null,
      "outputs": []
    },
    {
      "cell_type": "markdown",
      "source": [
        "### **Layerwise Encoder&Decoder**"
      ],
      "metadata": {
        "id": "CAL6MuaJor6Y"
      }
    },
    {
      "cell_type": "markdown",
      "source": [
        " **Residual Dropout** We apply dropout [27] to the output of each sub-layer, before it is added to the\n",
        " sub-layer input and normalized. In addition, we apply dropout to the sums of the embeddings and the\n",
        " positional encodings in both the encoder and decoder stacks. For the base model, we use a rate of\n",
        " Pdrop = 01."
      ],
      "metadata": {
        "id": "SnXXdUuhIfy8"
      }
    },
    {
      "cell_type": "code",
      "execution_count": null,
      "metadata": {
        "id": "nR0X5r6xYT_4"
      },
      "outputs": [],
      "source": [
        "class EncoderLayer(nn.Module):\n",
        "# refer to Section 3.1 and Figure 1 in the paper\n",
        "# this is a single encoder block consists of the following\n",
        "# multi-head attention, positionwise feed forward network, residual connections, layer normalizations\n",
        "    def __init__(self,d_model=16,num_head=4,d_ff=32, drop_prob=0.1):\n",
        "        super().__init__()\n",
        "        # fill out here\n",
        "        self.multiattention = MultiHeadAttention(d_model, num_head)\n",
        "        self.norm = LayerNormalization(d_model)\n",
        "        self.feedforward = PositionwiseFeedForwardNetwork(d_model, d_ff)\n",
        "        self.dropout = nn.Dropout(drop_prob) # 얘 어디에 들어감?\n",
        "\n",
        "    def forward(self,enc):\n",
        "        # fill out here\n",
        "        # 2-sub layers\n",
        "        # enc->q,k,v?\n",
        "        temp = self.multiattention(q,k,v)\n",
        "        temp = self.norm(enc + temp)  # Add & Norm\n",
        "\n",
        "        # Feed Forward\n",
        "        output = self.feedforward(temp)\n",
        "        output = self.norm(temp + output) # Add & Norm\n",
        "\n",
        "        return output"
      ]
    },
    {
      "cell_type": "code",
      "source": [
        "class DecoderLayer(nn.Module):\n",
        "# refer to Section 3.1 and Figure 1 in the paper\n",
        "# this is a single decoder block consists of the following\n",
        "# masked multi-head attention, multi-head attention, positionwise feed forward network, residual connections, layer normalizations\n",
        "    def __init__(self,d_model=16,num_head=4,d_ff=32,drop_prob=0.1):\n",
        "        super().__init__()\n",
        "        # fill out here\n",
        "        self.feedforward = PositionwiseFeedForwardNetwork(d_model, d_ff)\n",
        "        self.dropout = nn.Dropout(drop_prob) # 얘 어디에 들어감?\n",
        "        # residual connections 팔아먹었어요\n",
        "\n",
        "        self.multiattention1 = MultiHeadAttention(d_model, num_head) # masked\n",
        "        self.multiattention2 = MultiHeadAttention(d_model, num_head)\n",
        "\n",
        "        # 다 똑같이 normalization 해도 됨....?\n",
        "        self.norm = LayerNormalization(d_model)\n",
        "\n",
        "    def forward(self,enc_output,dec,dec_mask):\n",
        "        # fill out here\n",
        "        # 3-sub layers\n",
        "        # q, k, v 어디서 남?\n",
        "        temp = self.multiattention1(q,k,v,dec_mask)\n",
        "        temp = self.norm(dec + temp) # Add & Norm\n",
        "\n",
        "        # enc_output -> q, k. temp->v\n",
        "        temp2 = self.multiattention2(enc_output,temp)\n",
        "        temp2 = self.norm(temp + temp2) # Add & Norm\n",
        "\n",
        "        output = self.feedforward(temp2) # Feed Forward\n",
        "        output = self.norm(temp2 + output) # Add & Norm\n",
        "\n",
        "        return output"
      ],
      "metadata": {
        "id": "NOqwZa21pCYT"
      },
      "execution_count": null,
      "outputs": []
    },
    {
      "cell_type": "markdown",
      "source": [
        "#### **찐 Encoder&Decoder**"
      ],
      "metadata": {
        "id": "0qiUjePQpJud"
      }
    },
    {
      "cell_type": "code",
      "source": [
        "class Encoder(nn.Module):\n",
        "# refer to Section 3.1 and Figure 1 in the paper\n",
        "# this is a whole encoder, i.e., the left side of Figure 1, consists of the following as well\n",
        "# input embedding, positional encoding\n",
        "    \"\"\"\n",
        "    in this homework, encoder inputs are not tokens, it is already embeddings in the input dimension\n",
        "    hence, you don't have to set input embedding layer\n",
        "    instead, you have to transform the input into the hidden dimension with single linear transformation\n",
        "    \"\"\"\n",
        "    def __init__(self,device,input_dim=3,num_layer=3,max_len=512,d_model=16,num_head=4,d_ff=32,drop_prob=.1):\n",
        "        super().__init__()\n",
        "        # fill out here\n",
        "        self.num_layer = num_layer\n",
        "\n",
        "        self.positionalencoding = PositionalEncoding(device, max_len, d_model)\n",
        "        self.encoderlayer = EncoderLayer(d_model, num_head, d_ff, drop_prob)\n",
        "\n",
        "    def forward(self,x):\n",
        "        # fill out here\n",
        "        input_embedding = x # input into the hidden dimension with single linear transformation\n",
        "        hidden = self.positionalencoding(input_embedding)\n",
        "\n",
        "        for i in range(self.num_layer):\n",
        "          hidden = self.encoderlayer(hidden)\n",
        "\n",
        "        return hidden"
      ],
      "metadata": {
        "id": "H83Yd4oEo_KN"
      },
      "execution_count": null,
      "outputs": []
    },
    {
      "cell_type": "code",
      "source": [
        "# refer to Section 3.1 and Figure 1 in the paper\n",
        "# this is a whole decoder, i.e., the left side of Figure 1, consists of the following as well\n",
        "# input embedding, positional encoding, linear classifier\n",
        "class Decoder(nn.Module):\n",
        "    \"\"\"\n",
        "    in this homework, decoder inputs are not tokens, it is already embeddings in the input dimension\n",
        "    hence, you don't have to set input embedding layer\n",
        "    instead, you have to transform the input into the hidden dimension with single linear transformation\n",
        "    \"\"\"\n",
        "    def __init__(self,device,input_dim=3,num_layer=3,max_len=512,d_model=16,num_head=4,d_ff=32,drop_prob=.1):\n",
        "        super().__init__()\n",
        "        # fill out here\n",
        "        self.num_layer = num_layer # N\n",
        "\n",
        "        self.positionalencoding = PositionalEncoding(self.device, self.max_len,d_model)\n",
        "        self.decoderlayer = DecoderLayer(self.d_model, self.num_head, self.d_ff, self.drop_prob)\n",
        "\n",
        "    def forward(self,enc_output,y,y_mask):\n",
        "        # fill out here\n",
        "        input_embedding = self.positionalencoding(y)\n",
        "        output = self.encoderlayer(enc_output,input_embedding,y_mask)\n",
        "\n",
        "        for i in range(self.num_layer-1):\n",
        "          output = self.encoderlayer(output,input_embedding, y_mask)\n",
        "\n",
        "        return output"
      ],
      "metadata": {
        "id": "2dZvDTuZ54Xe"
      },
      "execution_count": null,
      "outputs": []
    },
    {
      "cell_type": "markdown",
      "source": [
        "### **Transformer**"
      ],
      "metadata": {
        "id": "827gYspjo1zW"
      }
    },
    {
      "cell_type": "code",
      "source": [
        "# refer to Section 3.1 and Figure 1 in the paper\n",
        "# sum up encoder and decoder\n",
        "class Transformer(nn.Module):\n",
        "\n",
        "    def __init__(self,device, input_dim=3, num_layer=3, max_len=512, d_model=16, num_head=4, d_ff=32, drop_prob=.1):\n",
        "        super().__init__()\n",
        "        self.masking = Masking(device)\n",
        "        self.encoder = Encoder(device,input_dim,num_layer,max_len,d_model,num_head,d_ff,drop_prob)\n",
        "        self.decoder = Decoder(device,input_dim,num_layer,max_len,d_model,num_head,d_ff,drop_prob)\n",
        "\n",
        "    def forward(self,x,y):\n",
        "        # fill out here\n",
        "        y_mask = self.masking(y)\n",
        "\n",
        "        enc_output = self.encoder(x)\n",
        "        dec_output = self.decoder(enc_output, y, y_mask)\n",
        "        dec_output = nn.linear(dec_output,100)\n",
        "        dec_output = softmax(dec_output)\n",
        "\n",
        "        return dec_output"
      ],
      "metadata": {
        "colab": {
          "base_uri": "https://localhost:8080/",
          "height": 221
        },
        "id": "teeMpId45bpz",
        "outputId": "031a040f-3b7c-4592-d459-5e7bcc6a2ee7"
      },
      "execution_count": null,
      "outputs": [
        {
          "output_type": "error",
          "ename": "NameError",
          "evalue": "name 'nn' is not defined",
          "traceback": [
            "\u001b[0;31m---------------------------------------------------------------------------\u001b[0m",
            "\u001b[0;31mNameError\u001b[0m                                 Traceback (most recent call last)",
            "\u001b[0;32m<ipython-input-1-0e8cf7ffcfd0>\u001b[0m in \u001b[0;36m<cell line: 1>\u001b[0;34m()\u001b[0m\n\u001b[0;32m----> 1\u001b[0;31m \u001b[0;32mclass\u001b[0m \u001b[0mTransformer\u001b[0m\u001b[0;34m(\u001b[0m\u001b[0mnn\u001b[0m\u001b[0;34m.\u001b[0m\u001b[0mModule\u001b[0m\u001b[0;34m)\u001b[0m\u001b[0;34m:\u001b[0m\u001b[0;34m\u001b[0m\u001b[0;34m\u001b[0m\u001b[0m\n\u001b[0m\u001b[1;32m      2\u001b[0m \u001b[0;34m\u001b[0m\u001b[0m\n\u001b[1;32m      3\u001b[0m     \u001b[0;32mdef\u001b[0m \u001b[0m__init__\u001b[0m\u001b[0;34m(\u001b[0m\u001b[0mself\u001b[0m\u001b[0;34m,\u001b[0m\u001b[0mdevice\u001b[0m\u001b[0;34m,\u001b[0m\u001b[0minput_dim\u001b[0m\u001b[0;34m=\u001b[0m\u001b[0;36m3\u001b[0m\u001b[0;34m,\u001b[0m\u001b[0mnum_layer\u001b[0m\u001b[0;34m=\u001b[0m\u001b[0;36m3\u001b[0m\u001b[0;34m,\u001b[0m\u001b[0mmax_len\u001b[0m\u001b[0;34m=\u001b[0m\u001b[0;36m512\u001b[0m\u001b[0;34m,\u001b[0m\u001b[0md_model\u001b[0m\u001b[0;34m=\u001b[0m\u001b[0;36m16\u001b[0m\u001b[0;34m,\u001b[0m\u001b[0mnum_head\u001b[0m\u001b[0;34m=\u001b[0m\u001b[0;36m4\u001b[0m\u001b[0;34m,\u001b[0m\u001b[0md_ff\u001b[0m\u001b[0;34m=\u001b[0m\u001b[0;36m32\u001b[0m\u001b[0;34m,\u001b[0m\u001b[0mdrop_prob\u001b[0m\u001b[0;34m=\u001b[0m\u001b[0;36m.1\u001b[0m\u001b[0;34m)\u001b[0m\u001b[0;34m:\u001b[0m\u001b[0;34m\u001b[0m\u001b[0;34m\u001b[0m\u001b[0m\n\u001b[1;32m      4\u001b[0m         \u001b[0msuper\u001b[0m\u001b[0;34m(\u001b[0m\u001b[0;34m)\u001b[0m\u001b[0;34m.\u001b[0m\u001b[0m__init__\u001b[0m\u001b[0;34m(\u001b[0m\u001b[0;34m)\u001b[0m\u001b[0;34m\u001b[0m\u001b[0;34m\u001b[0m\u001b[0m\n\u001b[1;32m      5\u001b[0m         \u001b[0mself\u001b[0m\u001b[0;34m.\u001b[0m\u001b[0mencoder\u001b[0m \u001b[0;34m=\u001b[0m \u001b[0mEncoder\u001b[0m\u001b[0;34m(\u001b[0m\u001b[0mdevice\u001b[0m\u001b[0;34m,\u001b[0m\u001b[0minput_dim\u001b[0m\u001b[0;34m,\u001b[0m\u001b[0mnum_layer\u001b[0m\u001b[0;34m,\u001b[0m\u001b[0mmax_len\u001b[0m\u001b[0;34m,\u001b[0m\u001b[0md_model\u001b[0m\u001b[0;34m,\u001b[0m\u001b[0mnum_head\u001b[0m\u001b[0;34m,\u001b[0m\u001b[0md_ff\u001b[0m\u001b[0;34m,\u001b[0m\u001b[0mdrop_prob\u001b[0m\u001b[0;34m)\u001b[0m\u001b[0;34m\u001b[0m\u001b[0;34m\u001b[0m\u001b[0m\n",
            "\u001b[0;31mNameError\u001b[0m: name 'nn' is not defined"
          ]
        }
      ]
    },
    {
      "cell_type": "markdown",
      "source": [
        "## **Model Train Setting**"
      ],
      "metadata": {
        "id": "woBgB4KTlg6z"
      }
    },
    {
      "cell_type": "code",
      "source": [
        "##########################################\n",
        "#### there is nothing to do from here ####\n",
        "##########################################"
      ],
      "metadata": {
        "id": "tJKQKOr2bTx7"
      },
      "execution_count": null,
      "outputs": []
    },
    {
      "cell_type": "code",
      "source": [
        "class ScheduledOptimizer:\n",
        "    def __init__(self,optimizer,d_model=16,warmup_steps=4000):\n",
        "        self.optimizer = optimizer\n",
        "        self.d_model = d_model\n",
        "        self.warmup_steps = warmup_steps\n",
        "        self.step_num = 0\n",
        "\n",
        "    def zero_grad(self):\n",
        "        self.optimizer.zero_grad()\n",
        "\n",
        "    def update_parameter_and_learning_rate(self):\n",
        "        self.optimizer.step()\n",
        "        self.step_num += 1\n",
        "        self.lr = self.d_model**(-.5) * min(self.step_num**(-.5),self.step_num*self.warmup_steps**(-1.5))\n",
        "        for param_group in self.optimizer.param_groups:\n",
        "            param_group['lr'] = self.lr"
      ],
      "metadata": {
        "id": "xDW3t0IAbSbT"
      },
      "execution_count": null,
      "outputs": []
    },
    {
      "cell_type": "markdown",
      "source": [
        "### **Setting**"
      ],
      "metadata": {
        "id": "RvUNtrUynlSQ"
      }
    },
    {
      "cell_type": "code",
      "source": [
        "device = torch.device(\"cuda:0\" if torch.cuda.is_available() else \"cpu\")\n",
        "\n",
        "# modify num_layer, d_model, num_head, d_ff while debugging your code\n",
        "model = Transformer(device=device,input_dim=3,num_layer=3,max_len=512,d_model=16,num_head=4,d_ff=32,drop_prob=.1).to(device)\n",
        "loss = nn.BCEWithLogitsLoss(reduction=\"mean\")\n",
        "optimizer = torch.optim.Adam(model.parameters(),betas=(.9,.98),eps=1e-9)\n",
        "scheduled_optimizer = ScheduledOptimizer(optimizer,d_model=16)"
      ],
      "metadata": {
        "id": "_3fDkmxrnoCS"
      },
      "execution_count": null,
      "outputs": []
    },
    {
      "cell_type": "code",
      "source": [
        "# Epoch 설정\n",
        "num_epoch = 1 # 돌아가나 확인 중..."
      ],
      "metadata": {
        "id": "cJzSmEysmGaU"
      },
      "execution_count": null,
      "outputs": []
    },
    {
      "cell_type": "markdown",
      "source": [
        "## **Train Model**"
      ],
      "metadata": {
        "id": "7DAaQSncl6v4"
      }
    },
    {
      "cell_type": "code",
      "source": [
        "train_loss_list, test_loss_list = list(), list()\n",
        "\n",
        "total_params = sum(p.numel() for p in model.parameters() if p.requires_grad)\n",
        "print(\"num_param:\", total_params)"
      ],
      "metadata": {
        "id": "koK2XayWmCuc"
      },
      "execution_count": null,
      "outputs": []
    },
    {
      "cell_type": "markdown",
      "source": [
        "### **Train/Evaluate 함수(일단 모델 돌아가면 수정)**"
      ],
      "metadata": {
        "id": "Vwa9EGy-mqyG"
      }
    },
    {
      "cell_type": "markdown",
      "source": [
        "반복문 길어서 보기 힘들면 함수로 따로 빼기"
      ],
      "metadata": {
        "id": "X-zkagTmnKsr"
      }
    },
    {
      "cell_type": "code",
      "source": [
        "'''\n",
        "def train():\n",
        "# train\n",
        "    model.train()\n",
        "\n",
        "    # initialize(epoch마다)\n",
        "    total_loss = 0\n",
        "    count = 0\n",
        "\n",
        "    for batch_idx, (image, label) in enumerate(train_loader):\n",
        "        image = image.reshape(-1,3,1024).transpose(1,2)\n",
        "        x, y = image[:,:512,:].to(device), image[:,512:,:].to(device)\n",
        "\n",
        "        y_ = torch.zeros([y.shape[0],1,3],requires_grad=False).to(device)\n",
        "        y_ = torch.cat([y_,y[:,:-1,:]],dim=1)\n",
        "\n",
        "        logit = model.forward(x,y_)\n",
        "        cost = loss(logit, y)\n",
        "\n",
        "        total_loss += cost.item() * y.shape[0] * y.shape[1] * y.shape[2]\n",
        "\n",
        "        scheduled_optimizer.zero_grad()\n",
        "        cost.backward()\n",
        "        scheduled_optimizer.update_parameter_and_learning_rate()\n",
        "\n",
        "    ave_loss = total_loss/len(train_data)\n",
        "    train_loss_list.append(ave_loss)\n",
        "\n",
        "    if i % 1 == 0:\n",
        "        print(\"\\nEpoch %d Train: %.3f w/ Learning Rate: %.5f\"%(i,ave_loss, scheduled_optimizer.lr))\n",
        "'''"
      ],
      "metadata": {
        "id": "GlrO56fimyV3"
      },
      "execution_count": null,
      "outputs": []
    },
    {
      "cell_type": "code",
      "source": [
        "'''\n",
        "def evaluate():\n",
        "  ## test\n",
        "    model.eval()\n",
        "\n",
        "    total_loss = 0\n",
        "    count = 0\n",
        "\n",
        "    with torch.no_grad():\n",
        "        for batch_idx, (image, label) in enumerate(test_loader):\n",
        "\n",
        "            image = image.reshape(-1,3,1024).transpose(1,2)\n",
        "            x, y = image[:,:512,:].to(device), image[:,512:,:].to(device)\n",
        "\n",
        "            y_ = torch.zeros([y.shape[0],1,3],requires_grad=False).to(device)\n",
        "            y_ = torch.cat([y_,y[:,:-1,:]],dim=1)\n",
        "\n",
        "            logit = model.forward(x,y_)\n",
        "            cost = loss(logit, y)\n",
        "\n",
        "            total_loss += cost.item() * y.shape[0] * y.shape[1] * y.shape[2]\n",
        "\n",
        "    ave_loss = total_loss/len(test_data)\n",
        "    test_loss_list.append(ave_loss)\n",
        "\n",
        "    if i % 1 == 0:\n",
        "        print(\"Epoch %d Test: %.3f\"%(i,ave_loss))\n",
        "'''"
      ],
      "metadata": {
        "id": "aDjI1LbWnMy0"
      },
      "execution_count": null,
      "outputs": []
    },
    {
      "cell_type": "code",
      "source": [
        "'''\n",
        "for i in range(num_epoch):\n",
        "  train()\n",
        "  evaluate()\n",
        "'''"
      ],
      "metadata": {
        "id": "EW2QGFRznUSj"
      },
      "execution_count": null,
      "outputs": []
    },
    {
      "cell_type": "markdown",
      "source": [
        "### **학습 결과**"
      ],
      "metadata": {
        "id": "V-tjSzjBmve3"
      }
    },
    {
      "cell_type": "code",
      "source": [
        "for i in range(num_epoch):\n",
        "    # train\n",
        "    model.train()\n",
        "\n",
        "    # initialize(epoch마다)\n",
        "    total_loss = 0\n",
        "    count = 0\n",
        "\n",
        "    for batch_idx, (image, label) in enumerate(train_loader):\n",
        "        image = image.reshape(-1,3,1024).transpose(1,2)\n",
        "        x, y = image[:,:512,:].to(device), image[:,512:,:].to(device)\n",
        "\n",
        "        y_ = torch.zeros([y.shape[0],1,3],requires_grad=False).to(device)\n",
        "        y_ = torch.cat([y_,y[:,:-1,:]],dim=1)\n",
        "\n",
        "        logit = model.forward(x,y_)\n",
        "        cost = loss(logit, y)\n",
        "\n",
        "        total_loss += cost.item() * y.shape[0] * y.shape[1] * y.shape[2]\n",
        "\n",
        "        scheduled_optimizer.zero_grad()\n",
        "        cost.backward()\n",
        "        scheduled_optimizer.update_parameter_and_learning_rate()\n",
        "\n",
        "    ave_loss = total_loss/len(train_data)\n",
        "    train_loss_list.append(ave_loss)\n",
        "\n",
        "    if i % 1 == 0:\n",
        "        print(\"\\nEpoch %d Train: %.3f w/ Learning Rate: %.5f\"%(i,ave_loss, scheduled_optimizer.lr))\n",
        "\n",
        "    ## test\n",
        "    model.eval()\n",
        "\n",
        "    total_loss = 0\n",
        "    count = 0\n",
        "\n",
        "    with torch.no_grad():\n",
        "        for batch_idx, (image, label) in enumerate(test_loader):\n",
        "\n",
        "            image = image.reshape(-1,3,1024).transpose(1,2)\n",
        "            x, y = image[:,:512,:].to(device), image[:,512:,:].to(device)\n",
        "\n",
        "            y_ = torch.zeros([y.shape[0],1,3],requires_grad=False).to(device)\n",
        "            y_ = torch.cat([y_,y[:,:-1,:]],dim=1)\n",
        "\n",
        "            logit = model.forward(x,y_)\n",
        "            cost = loss(logit, y)\n",
        "\n",
        "            total_loss += cost.item() * y.shape[0] * y.shape[1] * y.shape[2]\n",
        "\n",
        "    ave_loss = total_loss/len(test_data)\n",
        "    test_loss_list.append(ave_loss)\n",
        "\n",
        "    if i % 1 == 0:\n",
        "        print(\"Epoch %d Test: %.3f\"%(i,ave_loss))"
      ],
      "metadata": {
        "id": "kOBuZW2nlwBu"
      },
      "execution_count": null,
      "outputs": []
    }
  ]
}