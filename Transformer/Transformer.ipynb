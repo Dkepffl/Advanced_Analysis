{
  "nbformat": 4,
  "nbformat_minor": 0,
  "metadata": {
    "colab": {
      "provenance": [],
      "collapsed_sections": [
        "8w_8koWBa6G7",
        "SJJSOhykbFbu",
        "AuRMuYteYppp",
        "qhsbaa7nn0Vu",
        "DjLRqsadRSVv",
        "1c9YUo0mn-t2",
        "IeXo-hitgJFk",
        "sJBlibJSoGRH",
        "hdljDJlGp0kl",
        "wkhuFLZkoTeV",
        "nKLxEC8AoYr6",
        "lOo3enKnofCX",
        "CAL6MuaJor6Y",
        "dSbaprIROaz-",
        "V-tjSzjBmve3"
      ],
      "gpuType": "T4",
      "authorship_tag": "ABX9TyO3IJZMZoCjoKPgOnwOoZcV",
      "include_colab_link": true
    },
    "kernelspec": {
      "name": "python3",
      "display_name": "Python 3"
    },
    "language_info": {
      "name": "python"
    },
    "accelerator": "GPU"
  },
  "cells": [
    {
      "cell_type": "markdown",
      "metadata": {
        "id": "view-in-github",
        "colab_type": "text"
      },
      "source": [
        "<a href=\"https://colab.research.google.com/github/Dkepffl/Advanced_Analysis/blob/main/Transformer/Transformer.ipynb\" target=\"_parent\"><img src=\"https://colab.research.google.com/assets/colab-badge.svg\" alt=\"Open In Colab\"/></a>"
      ]
    },
    {
      "cell_type": "markdown",
      "source": [
        "## **Import Packages**"
      ],
      "metadata": {
        "id": "8w_8koWBa6G7"
      }
    },
    {
      "cell_type": "code",
      "source": [
        "import torch\n",
        "import torch.nn as nn\n",
        "import torch.nn.functional as F\n",
        "\n",
        "import torchvision.transforms as transforms\n",
        "from torchvision.datasets import CIFAR100\n",
        "from torch.utils.data import DataLoader\n",
        "\n",
        "import numpy as np"
      ],
      "metadata": {
        "id": "-OTuX_9EbES5"
      },
      "execution_count": 609,
      "outputs": []
    },
    {
      "cell_type": "markdown",
      "source": [
        "## **Data loader**"
      ],
      "metadata": {
        "id": "SJJSOhykbFbu"
      }
    },
    {
      "cell_type": "code",
      "source": [
        "# data loader\n",
        "path = './datasets/'\n",
        "\n",
        "# Data transform Setting\n",
        "transform = transforms.Compose([transforms.ToTensor()]) # Tensor 변환. 다른 전처리X\n",
        "\n",
        "# Load data\n",
        "train_data = CIFAR100(root=path,train=True,transform=transform,download=True)\n",
        "test_data = CIFAR100(root=path,train=False,transform=transform,download=True)\n",
        "\n",
        "batch_size = 100\n",
        "\n",
        "train_loader = DataLoader(dataset=train_data,batch_size=batch_size,shuffle=True,num_workers=0)\n",
        "test_loader = DataLoader(dataset=test_data,batch_size=batch_size,shuffle=False,num_workers=0)"
      ],
      "metadata": {
        "id": "s_iY1Eo3bNlx",
        "colab": {
          "base_uri": "https://localhost:8080/"
        },
        "outputId": "42244b54-6e20-4706-dc2e-77473bdca35c"
      },
      "execution_count": 610,
      "outputs": [
        {
          "output_type": "stream",
          "name": "stdout",
          "text": [
            "Files already downloaded and verified\n",
            "Files already downloaded and verified\n"
          ]
        }
      ]
    },
    {
      "cell_type": "markdown",
      "source": [
        "### **Image 확인용**"
      ],
      "metadata": {
        "id": "AuRMuYteYppp"
      }
    },
    {
      "cell_type": "code",
      "source": [
        "import matplotlib.pyplot as plt\n",
        "\n",
        "np.random.seed(42)\n",
        "random_nums = [np.random.randint(1, 2001) for i in range(5)]\n",
        "\n",
        "plt.figure(figsize=(10, 2))\n",
        "\n",
        "for i in range(len(random_nums)):\n",
        "    plt.subplot(1, 5, i+1) # 5번 번갈아가며 서브플롯 생성\n",
        "    y = train_loader.dataset[random_nums[i]][0]\n",
        "    plt.imshow(np.transpose(y, (1,2,0))) # 이미지 데이터를 (C, H, W)에서 (H, W, C) 차원으로 변환, 랜덤 번호의 이미지 출력\n",
        "    plt.title(train_data.classes[train_loader.dataset[random_nums[i]][1]])\n",
        "    plt.axis('off')"
      ],
      "metadata": {
        "colab": {
          "base_uri": "https://localhost:8080/",
          "height": 192
        },
        "id": "f00QrmXXXhJY",
        "outputId": "16166f20-5e56-4fb2-8f9c-bc10839e19bd"
      },
      "execution_count": 643,
      "outputs": [
        {
          "output_type": "display_data",
          "data": {
            "text/plain": [
              "<Figure size 1000x200 with 5 Axes>"
            ],
            "image/png": "[encoded data removed]"
          },
          "metadata": {}
        }
      ]
    },
    {
      "cell_type": "markdown",
      "source": [
        "### **Data shape**"
      ],
      "metadata": {
        "id": "1YX3R62yXpwk"
      }
    },
    {
      "cell_type": "code",
      "source": [
        "input_shape = train_data[0][0].shape # 출력 결과 : [3, 32, 32]\n",
        "output_shape = len(train_data.classes) # 출력 결과 : 100"
      ],
      "metadata": {
        "id": "XWjsTu3dlKcI"
      },
      "execution_count": 612,
      "outputs": []
    },
    {
      "cell_type": "markdown",
      "source": [
        "## **Transformer 구현**"
      ],
      "metadata": {
        "id": "QM2IkmKdlYfM"
      }
    },
    {
      "cell_type": "code",
      "source": [
        "##########################################\n",
        "#### there is nothing to do upto here ####\n",
        "##########################################"
      ],
      "metadata": {
        "id": "i41zWBTWbOie"
      },
      "execution_count": 613,
      "outputs": []
    },
    {
      "cell_type": "markdown",
      "source": [
        "### **Positional Encoding**\n",
        "```python\n",
        "# argument 정리\n",
        "pe = PositionalEncoding(device, max_len, d_model)\n",
        "pos_emb = pe(x)\n",
        "```\n",
        "[Jonas Gehring, Michael Auli, David Grangier, Denis Yarats, and Yann N. Dauphin. Convolu\n",
        "tional sequence to sequence learning. arXiv preprint arXiv:1705.03122v2, 2017.](https://arxiv.org/pdf/1705.03122)"
      ],
      "metadata": {
        "id": "qhsbaa7nn0Vu"
      }
    },
    {
      "cell_type": "code",
      "source": [
        "# refer to Section 3.5 in the paper\n",
        "class PositionalEncoding(nn.Module):\n",
        "    def __init__(self, device, max_len=512, d_model=16):\n",
        "        super().__init__()\n",
        "\n",
        "        self.device = device\n",
        "        # max_len만큼 만들고 x의 seq_len만큼 잘라서 사용\n",
        "        self.pos_enc = torch.zeros(max_len, d_model,requires_grad=False, device=device)\n",
        "\n",
        "        # Position Encoding Matrix\n",
        "        pos = torch.arange(0, max_len, dtype=torch.float).unsqueeze(-1) # unsqueeze :->(max_len,1)\n",
        "        ii = torch.arange(0, d_model, step=2, dtype=torch.float) # 2i. (1, self.d_model)\n",
        "\n",
        "        '''\n",
        "        논문을 그대로 따르려면\n",
        "        i = torch.arange(0, self.d_model//2, step=1, dtype=torch.float)\n",
        "\n",
        "        self.pos_enc[:,0::2] = torch.sin(pos/(10000**((2*i)/d_model)))\n",
        "        self.pos_enc[:,1::2] = torch.cos(pos/(10000**((2*i)/d_model)))\n",
        "\n",
        "        torch.arange() 메서드 안에서 self.d_model//2 계산하는 것이 싫어서 아예 2i를 generate\n",
        "        -> O(n)이 다른가?\n",
        "        -> 반복문으로 해도 될 듯\n",
        "        '''\n",
        "        self.pos_enc[:,0::2] = torch.sin(pos/(10000**(ii/d_model)))\n",
        "        self.pos_enc[:,1::2] = torch.cos(pos/(10000**(ii/d_model)))\n",
        "\n",
        "        self.pos_enc.unsqueeze_(0) # [1, max_len, d_model]\n",
        "\n",
        "    def forward(self,x):\n",
        "        \"\"\"\n",
        "        x: transformed input embedding where x.shape = [batch_size, seq_len, data_dim]\n",
        "        \"\"\"\n",
        "        seq_len = x.shape[1]\n",
        "        pos_emb = self.pos_enc[:,:seq_len,:]\n",
        "\n",
        "        ''' for Debugging\n",
        "        print(x.shape) # torch.Size([100, 512, 3]) -> input linear transformation 빠져서 그랬음\n",
        "        print(pos_emb.shape) # torch.Size([1, 512, 16])\n",
        "        '''\n",
        "\n",
        "        return pos_emb"
      ],
      "metadata": {
        "id": "hH8H_dWbn8lm"
      },
      "execution_count": 614,
      "outputs": []
    },
    {
      "cell_type": "markdown",
      "source": [
        "#### **idea**"
      ],
      "metadata": {
        "id": "DjLRqsadRSVv"
      }
    },
    {
      "cell_type": "code",
      "source": [
        "# To make Position Encoding Matrix\n",
        "temp = torch.zeros(4,4,requires_grad=False)\n",
        "\n",
        "temp2 = torch.arange(4).unsqueeze(-1) # row == pos\n",
        "temp3 = torch.arange(0, 4//2, 1) # column == i\n",
        "\n",
        "temp[:,0::2] = torch.sin(temp2/(10000**((2*temp3)/4)))\n",
        "temp[:,1::2] = torch.cos(temp2/(10000**((2*temp3)/4)))\n",
        "\n",
        "temp"
      ],
      "metadata": {
        "colab": {
          "base_uri": "https://localhost:8080/"
        },
        "id": "yyxUQ5xnMWux",
        "outputId": "2e4f3902-05dd-493c-fa1e-49699a91b22e"
      },
      "execution_count": 615,
      "outputs": [
        {
          "output_type": "execute_result",
          "data": {
            "text/plain": [
              "tensor([[ 0.0000,  1.0000,  0.0000,  1.0000],\n",
              "        [ 0.8415,  0.5403,  0.0100,  0.9999],\n",
              "        [ 0.9093, -0.4161,  0.0200,  0.9998],\n",
              "        [ 0.1411, -0.9900,  0.0300,  0.9996]])"
            ]
          },
          "metadata": {},
          "execution_count": 615
        }
      ]
    },
    {
      "cell_type": "markdown",
      "source": [
        "- matrix 모양이 좀 이상함...."
      ],
      "metadata": {
        "id": "fjqGQaNg5jLu"
      }
    },
    {
      "cell_type": "code",
      "source": [
        "torch.arange(4).shape"
      ],
      "metadata": {
        "colab": {
          "base_uri": "https://localhost:8080/"
        },
        "id": "K04VsRg44OS3",
        "outputId": "d1377507-4fd6-4bd4-ad90-ab43010f332b"
      },
      "execution_count": 616,
      "outputs": [
        {
          "output_type": "execute_result",
          "data": {
            "text/plain": [
              "torch.Size([4])"
            ]
          },
          "metadata": {},
          "execution_count": 616
        }
      ]
    },
    {
      "cell_type": "code",
      "source": [
        "torch.arange(4).unsqueeze(-1).shape"
      ],
      "metadata": {
        "colab": {
          "base_uri": "https://localhost:8080/"
        },
        "id": "TObPeU175NWz",
        "outputId": "3618b1b5-418c-4317-8eea-ef41be89f53a"
      },
      "execution_count": 617,
      "outputs": [
        {
          "output_type": "execute_result",
          "data": {
            "text/plain": [
              "torch.Size([4, 1])"
            ]
          },
          "metadata": {},
          "execution_count": 617
        }
      ]
    },
    {
      "cell_type": "code",
      "source": [
        "# Version 2\n",
        "temp = torch.zeros(4,4,requires_grad=False)\n",
        "\n",
        "temp2 = torch.arange(4).unsqueeze(-1,) # row == pos\n",
        "temp3 = torch.arange(0, 4, 2) # column == 2*i\n",
        "\n",
        "temp[:,0::2] = torch.sin(temp2/(10000**((temp3)/4)))\n",
        "temp[:,1::2] = torch.cos(temp2/(10000**((temp3)/4)))\n",
        "\n",
        "temp"
      ],
      "metadata": {
        "colab": {
          "base_uri": "https://localhost:8080/"
        },
        "id": "jWEfsHiFVUCf",
        "outputId": "5892e9fb-f2dc-47fb-c278-decf4f93e9bf"
      },
      "execution_count": 618,
      "outputs": [
        {
          "output_type": "execute_result",
          "data": {
            "text/plain": [
              "tensor([[ 0.0000,  1.0000,  0.0000,  1.0000],\n",
              "        [ 0.8415,  0.5403,  0.0100,  0.9999],\n",
              "        [ 0.9093, -0.4161,  0.0200,  0.9998],\n",
              "        [ 0.1411, -0.9900,  0.0300,  0.9996]])"
            ]
          },
          "metadata": {},
          "execution_count": 618
        }
      ]
    },
    {
      "cell_type": "markdown",
      "source": [
        "두 코드 결과 동일"
      ],
      "metadata": {
        "id": "2PddcDmsYvRH"
      }
    },
    {
      "cell_type": "markdown",
      "source": [
        "### **ScaledDotProductAttention**\n",
        "$$Attention(Q, K, V) = softmax(\\frac{QK^{T}}{\\sqrt {d_{k}}})V$$\n",
        "```python\n",
        "attention = ScaledDotProductAttention()\n",
        "attention_value = attention(q, k, v, mask=None)\n",
        "```"
      ],
      "metadata": {
        "id": "1c9YUo0mn-t2"
      }
    },
    {
      "cell_type": "code",
      "source": [
        "# refer to Section 3.2.1 and Fig 2 (left) in the paper\n",
        "class ScaledDotProductAttention(nn.Module):\n",
        "    def __init__(self):\n",
        "        super().__init__()\n",
        "        self.softmax = nn.Softmax(dim=-1)\n",
        "\n",
        "    def forward(self,q,k,v,mask=None):\n",
        "        # compute attention value based on transformed query, key, value where mask is given conditionally\n",
        "        \"\"\"\n",
        "        q, k, v = transformed query, key, value\n",
        "        q.shape, k.shape, v.shpae = [batch_size, num_head, seq_len, d=d_model/num_head]\n",
        "        mask = masking matrix, if the index has value False, kill the value; else, leave the value\n",
        "        \"\"\"\n",
        "        k_t =  torch.transpose(k, -1, -2) # [batch_size, num_head, d, seq_len]. k^T\n",
        "\n",
        "        numerator = torch.matmul(q, k_t)\n",
        "        denominator = np.sqrt(q.shape[-1])\n",
        "\n",
        "        attention_value = numerator/denominator\n",
        "\n",
        "        if mask != None:\n",
        "          # if the index has value False, kill the value; else, leave the value\n",
        "          # 논문에서는 -inf라서 그대로 따름\n",
        "          attention_value = attention_value.masked_fill(mask==0, -1e10)\n",
        "\n",
        "        attention_value = self.softmax(attention_value)\n",
        "        attention_value = torch.matmul(attention_value,v)\n",
        "\n",
        "        return attention_value"
      ],
      "metadata": {
        "id": "Onq2dngLoD-u"
      },
      "execution_count": 619,
      "outputs": []
    },
    {
      "cell_type": "markdown",
      "source": [
        "#### **idea**"
      ],
      "metadata": {
        "id": "IeXo-hitgJFk"
      }
    },
    {
      "cell_type": "code",
      "source": [
        "temp_mask=torch.tensor([[True, False, True], [False, True, False]], dtype=torch.bool)\n",
        "temp_x = torch.tensor([[1,2,3],[4,5,6]], dtype = torch.float)\n",
        "\n",
        "temp_ans = torch.tensor([[1,0, 3],[0, 5, 0]], dtype=torch.float)\n",
        "temp_ans"
      ],
      "metadata": {
        "colab": {
          "base_uri": "https://localhost:8080/"
        },
        "id": "iEiAImJ2fN7s",
        "outputId": "57470085-f624-4de0-e4bb-e2606c110adb"
      },
      "execution_count": 620,
      "outputs": [
        {
          "output_type": "execute_result",
          "data": {
            "text/plain": [
              "tensor([[1., 0., 3.],\n",
              "        [0., 5., 0.]])"
            ]
          },
          "metadata": {},
          "execution_count": 620
        }
      ]
    },
    {
      "cell_type": "code",
      "source": [
        "temp_x[temp_mask]"
      ],
      "metadata": {
        "colab": {
          "base_uri": "https://localhost:8080/"
        },
        "id": "tKril4xLfef5",
        "outputId": "031a3ae1-0725-408f-daab-8cdc84147873"
      },
      "execution_count": 621,
      "outputs": [
        {
          "output_type": "execute_result",
          "data": {
            "text/plain": [
              "tensor([1., 3., 5.])"
            ]
          },
          "metadata": {},
          "execution_count": 621
        }
      ]
    },
    {
      "cell_type": "code",
      "source": [
        "torch.mul(temp_mask, temp_x) # elementwise"
      ],
      "metadata": {
        "colab": {
          "base_uri": "https://localhost:8080/"
        },
        "id": "wsYzxlBFhRla",
        "outputId": "f385c0df-8900-4177-c87d-860cdd33922c"
      },
      "execution_count": 622,
      "outputs": [
        {
          "output_type": "execute_result",
          "data": {
            "text/plain": [
              "tensor([[1., 0., 3.],\n",
              "        [0., 5., 0.]])"
            ]
          },
          "metadata": {},
          "execution_count": 622
        }
      ]
    },
    {
      "cell_type": "markdown",
      "source": [
        "### **Multi Head Attention**\n",
        "$$MultiHead(Q, K, V) = Concat(head_1, ... , head_h)W^{O}$$\n",
        "\n",
        "where $  head_i = Attention(QW^{Q}_{i}, QW^{K}_{i}, QW^{V}_{i})$\n",
        "\n",
        "```python\n",
        "multiheadattention = MultiHeadAttention(d_model, num_head)\n",
        "output = multiheadattention(q, k, v, mask=None)\n",
        "```"
      ],
      "metadata": {
        "id": "sJBlibJSoGRH"
      }
    },
    {
      "cell_type": "code",
      "source": [
        "# refer to Section 3.2.2 and Fig 2 (right) in the paper\n",
        "class MultiHeadAttention(nn.Module):\n",
        "    def __init__(self,d_model=16,num_head=4):\n",
        "        super().__init__()\n",
        "        # fill out the rest\n",
        "        assert d_model % num_head == 0, \"check if d_model is divisible by num_head\"\n",
        "\n",
        "        # forward에서 필요한 parameter\n",
        "        self.d_model = d_model\n",
        "        self.num_head = num_head # head 개수 : h\n",
        "        self.d = d_model//num_head # d_k = d_v = d_model/h\n",
        "\n",
        "        # attention\n",
        "        self.attention = ScaledDotProductAttention()\n",
        "\n",
        "        # W_i : learnable\n",
        "        self.w_q = nn.Linear(self.d_model, self.d_model)\n",
        "        self.w_k = nn.Linear(self.d_model, self.d_model)\n",
        "        self.w_v = nn.Linear(self.d_model, self.d_model)\n",
        "\n",
        "        self.w_o = nn.Linear(self.d*self.num_head, self.d_model)\n",
        "\n",
        "    def forward(self,q,k,v,mask=None):\n",
        "        # fill out here\n",
        "        # compute multi-head attention value\n",
        "        # here, query, key, value are pre-transformed, so you need to transfrom them in this module\n",
        "        \"\"\"\n",
        "        q, k, v = pre-transformed query, key, value\n",
        "        q.shape, k.shape, v.shpae = [batch_size, seq_len, d_model]\n",
        "        mask = masking matrix, if the index has value False, kill the value; else, leave the value\n",
        "        \"\"\"\n",
        "        batch_size = q.shape[0]\n",
        "\n",
        "        QW = self.w_q(q) # [batch_size, seq_len, d_model]\n",
        "        KW = self.w_k(k)\n",
        "        VW = self.w_v(v)\n",
        "\n",
        "        '''\n",
        "        Note that\n",
        "\n",
        "        ScaledDotProductAttention의 input shape : [batch_size, num_head, seq_len, d]\n",
        "\n",
        "        현재 : [batch_size, seq_len, d_model]\n",
        "        reshape -> [batch_size, seq_len, num_head, d]\n",
        "        transpose(1,2) -> [batch_size, num_head, seq_len, d]\n",
        "\n",
        "        Colab에서 view()도 비슷한 기능이라고 추천하는데 안 써봐서 reshape 씀.\n",
        "        '''\n",
        "        QW = QW.reshape((batch_size, -1, self.num_head, self.d)).transpose(1,2)\n",
        "        KW = KW.reshape((batch_size, -1, self.num_head, self.d)).transpose(1,2)\n",
        "        VW = VW.reshape((batch_size, -1, self.num_head, self.d)).transpose(1,2)\n",
        "\n",
        "        head = self.attention(q=QW, k=KW, v=VW, mask=mask)\n",
        "        con_head = head.transpose(1,2).reshape(batch_size, -1, self.d_model) # -> [batch_size, -1 ,d_model]\n",
        "\n",
        "        output = self.w_o(con_head)\n",
        "\n",
        "        return output"
      ],
      "metadata": {
        "id": "-JD0KXDtoO7M"
      },
      "execution_count": 623,
      "outputs": []
    },
    {
      "cell_type": "markdown",
      "source": [],
      "metadata": {
        "id": "kYzV3Sh_FgUf"
      }
    },
    {
      "cell_type": "markdown",
      "source": [
        "#### **Idea**"
      ],
      "metadata": {
        "id": "hdljDJlGp0kl"
      }
    },
    {
      "cell_type": "code",
      "source": [
        "temp=torch.arange(0, 120).reshape((4,5,6))\n",
        "temp"
      ],
      "metadata": {
        "colab": {
          "base_uri": "https://localhost:8080/"
        },
        "id": "Ijc9zpmBn15N",
        "outputId": "0c81cb1a-6456-4815-ce54-f390ba5b5176"
      },
      "execution_count": 624,
      "outputs": [
        {
          "output_type": "execute_result",
          "data": {
            "text/plain": [
              "tensor([[[  0,   1,   2,   3,   4,   5],\n",
              "         [  6,   7,   8,   9,  10,  11],\n",
              "         [ 12,  13,  14,  15,  16,  17],\n",
              "         [ 18,  19,  20,  21,  22,  23],\n",
              "         [ 24,  25,  26,  27,  28,  29]],\n",
              "\n",
              "        [[ 30,  31,  32,  33,  34,  35],\n",
              "         [ 36,  37,  38,  39,  40,  41],\n",
              "         [ 42,  43,  44,  45,  46,  47],\n",
              "         [ 48,  49,  50,  51,  52,  53],\n",
              "         [ 54,  55,  56,  57,  58,  59]],\n",
              "\n",
              "        [[ 60,  61,  62,  63,  64,  65],\n",
              "         [ 66,  67,  68,  69,  70,  71],\n",
              "         [ 72,  73,  74,  75,  76,  77],\n",
              "         [ 78,  79,  80,  81,  82,  83],\n",
              "         [ 84,  85,  86,  87,  88,  89]],\n",
              "\n",
              "        [[ 90,  91,  92,  93,  94,  95],\n",
              "         [ 96,  97,  98,  99, 100, 101],\n",
              "         [102, 103, 104, 105, 106, 107],\n",
              "         [108, 109, 110, 111, 112, 113],\n",
              "         [114, 115, 116, 117, 118, 119]]])"
            ]
          },
          "metadata": {},
          "execution_count": 624
        }
      ]
    },
    {
      "cell_type": "code",
      "source": [
        "temp.reshape((4,-1,2,3))"
      ],
      "metadata": {
        "colab": {
          "base_uri": "https://localhost:8080/"
        },
        "id": "IrNFVUZFplaz",
        "outputId": "40d2e8cd-316f-47ea-8610-ae1210c5759f"
      },
      "execution_count": 625,
      "outputs": [
        {
          "output_type": "execute_result",
          "data": {
            "text/plain": [
              "tensor([[[[  0,   1,   2],\n",
              "          [  3,   4,   5]],\n",
              "\n",
              "         [[  6,   7,   8],\n",
              "          [  9,  10,  11]],\n",
              "\n",
              "         [[ 12,  13,  14],\n",
              "          [ 15,  16,  17]],\n",
              "\n",
              "         [[ 18,  19,  20],\n",
              "          [ 21,  22,  23]],\n",
              "\n",
              "         [[ 24,  25,  26],\n",
              "          [ 27,  28,  29]]],\n",
              "\n",
              "\n",
              "        [[[ 30,  31,  32],\n",
              "          [ 33,  34,  35]],\n",
              "\n",
              "         [[ 36,  37,  38],\n",
              "          [ 39,  40,  41]],\n",
              "\n",
              "         [[ 42,  43,  44],\n",
              "          [ 45,  46,  47]],\n",
              "\n",
              "         [[ 48,  49,  50],\n",
              "          [ 51,  52,  53]],\n",
              "\n",
              "         [[ 54,  55,  56],\n",
              "          [ 57,  58,  59]]],\n",
              "\n",
              "\n",
              "        [[[ 60,  61,  62],\n",
              "          [ 63,  64,  65]],\n",
              "\n",
              "         [[ 66,  67,  68],\n",
              "          [ 69,  70,  71]],\n",
              "\n",
              "         [[ 72,  73,  74],\n",
              "          [ 75,  76,  77]],\n",
              "\n",
              "         [[ 78,  79,  80],\n",
              "          [ 81,  82,  83]],\n",
              "\n",
              "         [[ 84,  85,  86],\n",
              "          [ 87,  88,  89]]],\n",
              "\n",
              "\n",
              "        [[[ 90,  91,  92],\n",
              "          [ 93,  94,  95]],\n",
              "\n",
              "         [[ 96,  97,  98],\n",
              "          [ 99, 100, 101]],\n",
              "\n",
              "         [[102, 103, 104],\n",
              "          [105, 106, 107]],\n",
              "\n",
              "         [[108, 109, 110],\n",
              "          [111, 112, 113]],\n",
              "\n",
              "         [[114, 115, 116],\n",
              "          [117, 118, 119]]]])"
            ]
          },
          "metadata": {},
          "execution_count": 625
        }
      ]
    },
    {
      "cell_type": "markdown",
      "source": [
        "### **PositionwiseFeedForwardNetwork**\n",
        "```python\n",
        "ffn = PositionwiseFeedForwardNetwork(d_model, num_head)\n",
        "output = ffn(x)\n",
        "```"
      ],
      "metadata": {
        "id": "wkhuFLZkoTeV"
      }
    },
    {
      "cell_type": "code",
      "source": [
        "# refer to Section 3.3 in the paper\n",
        "class PositionwiseFeedForwardNetwork(nn.Module):\n",
        "    def __init__(self,d_model=16,d_ff=32):\n",
        "        super().__init__()\n",
        "\n",
        "        self.linear1 = nn.Linear(d_model,d_ff) # W1\n",
        "        self.linear2 = nn.Linear(d_ff, d_model) # W2\n",
        "        self.relu = nn.ReLU()  # max(0, xW1 + b1) : ReLU\n",
        "\n",
        "    def forward(self,x):\n",
        "        output = self.linear1(x)\n",
        "        output = self.relu(output)\n",
        "        output = self.linear2(output)\n",
        "\n",
        "        return output"
      ],
      "metadata": {
        "id": "suaqHOhGoXcA"
      },
      "execution_count": 626,
      "outputs": []
    },
    {
      "cell_type": "markdown",
      "source": [
        "### **Masking**\n",
        "```python\n",
        "masking=Masking(device)\n",
        "mask=masking(x)\n",
        "```\n",
        "[Masking](https://data-science-blog.com/blog/2021/04/22/positional-encoding-residual-connections-padding-masks-all-the-details-of-transformer-model/)\n",
        "- masking : upper triangular 값이 False이면 됨\n",
        "- padding : 이미지 사이즈 다 똑같아서 안 해도 될 것 같음"
      ],
      "metadata": {
        "id": "nKLxEC8AoYr6"
      }
    },
    {
      "cell_type": "code",
      "source": [
        "class Masking(nn.Module):\n",
        "    def __init__(self,device):\n",
        "        super().__init__()\n",
        "\n",
        "        self.device = device\n",
        "\n",
        "    def forward(self,x):\n",
        "        \"\"\"\n",
        "        x.shape = [batch_size, seq_len, data_dim]\n",
        "        \"\"\"\n",
        "        seq_len = x.shape[1]\n",
        "        mask = torch.triu(torch.ones(seq_len, seq_len, dtype=torch.bool, device=self.device), diagonal=1)\n",
        "\n",
        "        return mask"
      ],
      "metadata": {
        "id": "iIIigiv1od-J"
      },
      "execution_count": 627,
      "outputs": []
    },
    {
      "cell_type": "markdown",
      "source": [
        "#### **Trial**"
      ],
      "metadata": {
        "id": "vsGwUTs3O40a"
      }
    },
    {
      "cell_type": "code",
      "source": [
        "torch.triu(torch.ones(4, 4, dtype=torch.bool), diagonal=1)"
      ],
      "metadata": {
        "colab": {
          "base_uri": "https://localhost:8080/"
        },
        "id": "j993WWkwPDHW",
        "outputId": "aefe9f4f-8b8f-4341-dd2b-34382f56b1cf"
      },
      "execution_count": 628,
      "outputs": [
        {
          "output_type": "execute_result",
          "data": {
            "text/plain": [
              "tensor([[False,  True,  True,  True],\n",
              "        [False, False,  True,  True],\n",
              "        [False, False, False,  True],\n",
              "        [False, False, False, False]])"
            ]
          },
          "metadata": {},
          "execution_count": 628
        }
      ]
    },
    {
      "cell_type": "markdown",
      "source": [
        "### **Layer Normalization**\n",
        "```python\n",
        "norm = LayerNormalization(d_model, eps)\n",
        "normed = norm(x)\n",
        "```\n",
        "[Pytorch LayerNorm Document](https://pytorch.org/docs/stable/generated/torch.nn.LayerNorm.html)"
      ],
      "metadata": {
        "id": "lOo3enKnofCX"
      }
    },
    {
      "cell_type": "code",
      "source": [
        "# do not use torch.nn.LayerNorm\n",
        "class LayerNormalization(nn.Module):\n",
        "    def __init__(self, d_model=16, eps=1e-5):\n",
        "        super().__init__()\n",
        "        # fill out here\n",
        "        self.eps = eps # epsilon 이겠지?\n",
        "\n",
        "        # gamma, beta : learnable parameter. 출처 : torch document\n",
        "        # nn.Parameter(data, requires_grad=True) : default\n",
        "        self.gamma = nn.Parameter(torch.ones(d_model)) # torch document 는 1로 initialize...\n",
        "        self.beta = nn.Parameter(torch.zeros(d_model)) # torch document 는 0으로 initialize...\n",
        "\n",
        "    def forward(self,x):\n",
        "        # fill out here\n",
        "        numerator = x-torch.mean(x)\n",
        "        denominator = torch.sqrt(torch.var(x, unbiased=False) + self.eps)\n",
        "        normed = numerator/denominator\n",
        "        normed = normed*self.gamma + self.beta\n",
        "\n",
        "        return normed"
      ],
      "metadata": {
        "id": "UK-sk73UorDq"
      },
      "execution_count": 629,
      "outputs": []
    },
    {
      "cell_type": "markdown",
      "source": [
        "### **Layerwise Encoder&Decoder**"
      ],
      "metadata": {
        "id": "CAL6MuaJor6Y"
      }
    },
    {
      "cell_type": "code",
      "execution_count": 630,
      "metadata": {
        "id": "nR0X5r6xYT_4"
      },
      "outputs": [],
      "source": [
        "# refer to Section 3.1 and Figure 1 in the paper\n",
        "# this is a single encoder block consists of the following\n",
        "# multi-head attention(O), positionwise feed forward network(O), residual connections(O), layer normalizations(O)\n",
        "class EncoderLayer(nn.Module):\n",
        "    def __init__(self,d_model=16,num_head=4,d_ff=32, drop_prob=0.1):\n",
        "        super().__init__()\n",
        "        self.multiattention = MultiHeadAttention(d_model=d_model, num_head=num_head) # multi-head attention\n",
        "        self.feedforward = PositionwiseFeedForwardNetwork(d_model=d_model, d_ff=d_ff) # positionwise feed forward network\n",
        "\n",
        "        self.dropout = nn.Dropout(p=drop_prob) # residual Dropout\n",
        "\n",
        "        # layer normalizations, eps : 입력값 없으므로 default 값 적용\n",
        "        self.norm1 = LayerNormalization(d_model=d_model)\n",
        "        self.norm2 = LayerNormalization(d_model=d_model)\n",
        "\n",
        "    def forward(self,enc):\n",
        "        # 2-sub layers : Multi Head Attention+Add&Norm, Feed Forward+Add&Norm\n",
        "        residual = enc\n",
        "        ##\n",
        "        output = self.multiattention(q=enc, k=enc, v=enc, mask=None) # Q=x, K=x, V=x\n",
        "        output = self.norm1(self.dropout(output) + residual)  # Add & Norm\n",
        "        residual = output\n",
        "        ##\n",
        "        output = self.feedforward(output)\n",
        "        output = self.norm2(self.dropout(output)+residual) # Add & Norm\n",
        "\n",
        "        return output"
      ]
    },
    {
      "cell_type": "code",
      "source": [
        "# refer to Section 3.1 and Figure 1 in the paper\n",
        "# this is a single decoder block consists of the following\n",
        "# masked multi-head attention(O), multi-head attention(O), positionwise feed forward network(O), residual connections(O), layer normalizations(O)\n",
        "class DecoderLayer(nn.Module):\n",
        "\n",
        "    def __init__(self,d_model=16,num_head=4,d_ff=32,drop_prob=0.1):\n",
        "        super().__init__()\n",
        "\n",
        "        self.multiattention1 = MultiHeadAttention(d_model=d_model, num_head=num_head) # masked\n",
        "        self.multiattention2 = MultiHeadAttention(d_model=d_model, num_head=num_head)\n",
        "\n",
        "        self.feedforward = PositionwiseFeedForwardNetwork(d_model=d_model, d_ff=d_ff)\n",
        "\n",
        "        self.norm1 = LayerNormalization(d_model=d_model)\n",
        "        self.norm2 = LayerNormalization(d_model=d_model)\n",
        "        self.norm3 = LayerNormalization(d_model=d_model)\n",
        "\n",
        "        self.dropout = nn.Dropout(p=drop_prob)\n",
        "\n",
        "    def forward(self,enc_output,dec,dec_mask):\n",
        "        # 3-sub layers\n",
        "        residual = dec\n",
        "        ## masked multi-head attention\n",
        "        output = self.multiattention1(q=dec, k=dec, v=dec, mask=dec_mask)\n",
        "        output = self.norm1(self.dropout(output)+residual) # Add & Norm\n",
        "        residual = output\n",
        "        ## multi-head attention\n",
        "        output = self.multiattention2(q=output, k=enc_output, v=enc_output, mask=None)\n",
        "        output = self.norm2(self.dropout(output)+residual) # Add & Norm\n",
        "        residual = output\n",
        "        ## positionwise feed forward network\n",
        "        output = self.feedforward(output) # Feed Forward\n",
        "        output = self.norm3(self.dropout(output)+residual) # Add & Norm\n",
        "\n",
        "        return output"
      ],
      "metadata": {
        "id": "NOqwZa21pCYT"
      },
      "execution_count": 631,
      "outputs": []
    },
    {
      "cell_type": "markdown",
      "source": [
        "### **Encoder&Decoder**"
      ],
      "metadata": {
        "id": "0qiUjePQpJud"
      }
    },
    {
      "cell_type": "markdown",
      "source": [
        "#### **input projection 관련 정리**\n",
        "```python\n",
        "\"\"\"\n",
        "in this homework, encoder inputs are not tokens, it is already embeddings in the input dimension\n",
        "hence, you don't have to set input embedding layer\n",
        "instead, you have to transform the input into the hidden dimension with single linear transformation\n",
        "\"\"\"\n",
        "```"
      ],
      "metadata": {
        "id": "dSbaprIROaz-"
      }
    },
    {
      "cell_type": "markdown",
      "source": [
        "[사이버캠퍼스 공지] 과제 출제"
      ],
      "metadata": {
        "id": "SjGLzRpLOitW"
      }
    },
    {
      "cell_type": "markdown",
      "source": [
        "이번 과제에서는 여러 여건상 cifar 데이터를 기반으로 3 * 32 * 32 사이즈 이미지의 윗부분을 sequential하게 보고 나머지 아랫부분을 sequential 하게 맞추는 형태로 연습을 진행합니다.\n",
        "\n",
        "구체적으로 설명드리자면 0~1 사이의 값을 갖는 (r,g,b) 형태로 된 하나의 pixel이 있다면, 이미지를 1024(=32*32) 길이를 가진 pixel sequence로 변환을 합니다.\n",
        "\n",
        "그런 다음 앞의 512개의 (r,g,b)-sequence를 input으로 넣어서 뒤의 512개의 (r,g,b)-sequence를 output으로 sequential 3-dimensional binary prediction을 하는 것이 전반적인 구조입니다.\n",
        "\n",
        "모든 구현은 Transformer 논문 (Attention is All You Need) 기반으로 하시면 됩니다.\n",
        "\n",
        "딱 한가지 다른 것은, 기존의 Transformer는 input으로 들어가는 값이 sequential of word index, one-hot vector 등의 형태인데, 우리 과제에서는 sequential of 0~1 (r,g,b)-vector 형태입니다.\n",
        "\n",
        "따라서, input embedding을 (우리가 아직 수업에서 다루지 않은) embedding lookup이 아닌, 여러분이 통상적으로 사용했던 linear transformation으로 만들면 되겠습니다. (즉, 3 dim (r,g,b)-vector를 d_model dimensional vector로 linear layer를 통해 변환하면 됩니다.)\n",
        "\n",
        "나머지 코드는 제가 모두 작성해뒀으니 다른 부분은 건들 필요가 없긴 한데, 당연히 이 부분도 debugging을 하실 때 수정하시는 것은 상관이 없습니다.\n",
        "\n",
        "특히, 제공한 코드 파일의 line 261은 일단 주석 처리를 해두고 num_layer, d_model, num_head, d_ff 등의 hyper-parameter 값을 낮춰서 먼저 코드가 돌아가도록 debugging 하시는 것을 추천드립니다.\n",
        "\n",
        "마지막으로 num_epoch은 100으로 설정해두었는데, 모델 학습이 아닌 모델 구현이 목표인 만큼 loss는 적당히 감소하는지 정도만 확인하시면 되고 전체 epoch에 대해서 학습하실 필요는 없습니다"
      ],
      "metadata": {
        "id": "6mqsCR5QOoVY"
      }
    },
    {
      "cell_type": "markdown",
      "source": [
        "#### **Code**"
      ],
      "metadata": {
        "id": "bI3xJofZOgMA"
      }
    },
    {
      "cell_type": "code",
      "source": [
        "# refer to Section 3.1 and Figure 1 in the paper\n",
        "# this is a whole encoder, i.e., the left side of Figure 1, consists of the following as well\n",
        "# input embedding, positional encoding\n",
        "class Encoder(nn.Module):\n",
        "\n",
        "    def __init__(self,device,input_dim=3,num_layer=3,max_len=512,d_model=16,num_head=4,d_ff=32,drop_prob=.1):\n",
        "        super().__init__()\n",
        "\n",
        "        self.input_projection = nn.Linear(input_dim, d_model)\n",
        "\n",
        "        self.pos_encoding = PositionalEncoding(device=device, max_len=max_len, d_model=d_model)\n",
        "\n",
        "        # self.encoder_N = nn.Sequential([EncoderLayer(d_model, num_head, d_ff, drop_prob) for i in range(num_layer)])\\\n",
        "        self.encoder_N = nn.ModuleList([EncoderLayer(d_model=d_model, num_head=num_head, d_ff=d_ff, drop_prob=drop_prob) for i in range(num_layer)])\n",
        "\n",
        "    def forward(self,x):\n",
        "        # fill out here\n",
        "        seq_len = x.shape[1]\n",
        "\n",
        "        input_embedding = self.input_projection(x)\n",
        "        pos_embedding = self.pos_encoding(input_embedding)\n",
        "\n",
        "        hidden = input_embedding + pos_embedding\n",
        "\n",
        "        for encoderlayer in self.encoder_N:\n",
        "          hidden = encoderlayer(hidden)\n",
        "\n",
        "        return hidden"
      ],
      "metadata": {
        "id": "H83Yd4oEo_KN"
      },
      "execution_count": 632,
      "outputs": []
    },
    {
      "cell_type": "code",
      "source": [
        "# refer to Section 3.1 and Figure 1 in the paper\n",
        "# this is a whole decoder, i.e., the left side of Figure 1, consists of the following as well\n",
        "# input embedding, positional encoding, linear classifier\n",
        "class Decoder(nn.Module):\n",
        "    def __init__(self,device,input_dim=3,num_layer=3,max_len=512,d_model=16,num_head=4,d_ff=32,drop_prob=.1):\n",
        "        super().__init__()\n",
        "        self.input_projection = nn.Linear(input_dim, d_model)\n",
        "\n",
        "        self.pos_encoding = PositionalEncoding(device, max_len,d_model)\n",
        "\n",
        "        # self.decoder_N = nn.Sequential([DecoderLayer(d_model, num_head, d_ff, drop_prob) for i in range(num_layer)])\n",
        "        self.decoder_N = nn.ModuleList([DecoderLayer(d_model, num_head, d_ff, drop_prob) for i in range(num_layer)])\n",
        "\n",
        "        self.classifier = nn.Linear(d_model, input_dim) # linear classifier\n",
        "\n",
        "    def forward(self,enc_output,y,y_mask):\n",
        "        # fill out here\n",
        "        output_embedding = self.input_projection(y)\n",
        "        pos_embedding = self.pos_encoding(output_embedding)\n",
        "\n",
        "        output = output_embedding + pos_embedding\n",
        "\n",
        "        for decoderlayer in self.decoder_N:\n",
        "          output = decoderlayer(enc_output, output, y_mask)\n",
        "\n",
        "        output = self.classifier(output)\n",
        "\n",
        "        return output"
      ],
      "metadata": {
        "id": "2dZvDTuZ54Xe"
      },
      "execution_count": 633,
      "outputs": []
    },
    {
      "cell_type": "markdown",
      "source": [
        "#### **nn.Sequential과 nn.ModuleList**\n",
        "- `nn.Conv2d` 등과 같이`torch.nn` 아닌 내가 정의한 `class`에 대해서 `nn.Sequential`을 적용해도 되는가?\n",
        "- `nn.Sequential` : 계단식 구조, forward... -> 잘 모르겠음. training setting 단계에서 오류 발성\n",
        "- `nn.ModuleList` : 오류는 안 남...\n",
        "- [DL] PyTorch: nn.ModuleList, nn.ModuleDict, nn.Sequential](https://ds31x.tistory.com/266#google_vignette)"
      ],
      "metadata": {
        "id": "GCdiQncTz9W7"
      }
    },
    {
      "cell_type": "markdown",
      "source": [
        "### **Transformer**"
      ],
      "metadata": {
        "id": "827gYspjo1zW"
      }
    },
    {
      "cell_type": "code",
      "source": [
        "# refer to Section 3.1 and Figure 1 in the paper\n",
        "# sum up encoder and decoder\n",
        "class Transformer(nn.Module):\n",
        "    def __init__(self, device, input_dim=3, num_layer=3, max_len=512, d_model=16, num_head=4, d_ff=32, drop_prob=.1):\n",
        "        super().__init__()\n",
        "\n",
        "        self.masking = Masking(device)\n",
        "\n",
        "        self.encoder = Encoder(device=device,input_dim=input_dim,num_layer=num_layer,max_len=max_len,d_model=d_model,num_head=num_head,d_ff=d_ff,drop_prob=drop_prob)\n",
        "        self.decoder = Decoder(device=device,input_dim=input_dim,num_layer=num_layer,max_len=max_len,d_model=d_model,num_head=num_head,d_ff=d_ff,drop_prob=drop_prob)\n",
        "\n",
        "    def forward(self,x,y):\n",
        "        y_mask = self.masking(y)\n",
        "\n",
        "        enc_output = self.encoder(x)\n",
        "        dec_output = self.decoder(enc_output, y, y_mask)\n",
        "\n",
        "        return dec_output"
      ],
      "metadata": {
        "id": "teeMpId45bpz"
      },
      "execution_count": 634,
      "outputs": []
    },
    {
      "cell_type": "markdown",
      "source": [
        "## **Model Train Setting**"
      ],
      "metadata": {
        "id": "woBgB4KTlg6z"
      }
    },
    {
      "cell_type": "code",
      "source": [
        "##########################################\n",
        "#### there is nothing to do from here ####\n",
        "##########################################"
      ],
      "metadata": {
        "id": "tJKQKOr2bTx7"
      },
      "execution_count": 635,
      "outputs": []
    },
    {
      "cell_type": "code",
      "source": [
        "class ScheduledOptimizer:\n",
        "    def __init__(self,optimizer,d_model=16,warmup_steps=4000):\n",
        "        self.optimizer = optimizer\n",
        "        self.d_model = d_model\n",
        "        self.warmup_steps = warmup_steps\n",
        "        self.step_num = 0\n",
        "\n",
        "    def zero_grad(self):\n",
        "        self.optimizer.zero_grad()\n",
        "\n",
        "    def update_parameter_and_learning_rate(self):\n",
        "        self.optimizer.step()\n",
        "        self.step_num += 1\n",
        "        self.lr = self.d_model**(-.5) * min(self.step_num**(-.5),self.step_num*self.warmup_steps**(-1.5))\n",
        "        for param_group in self.optimizer.param_groups:\n",
        "            param_group['lr'] = self.lr"
      ],
      "metadata": {
        "id": "xDW3t0IAbSbT"
      },
      "execution_count": 636,
      "outputs": []
    },
    {
      "cell_type": "markdown",
      "source": [
        "### **Setting**"
      ],
      "metadata": {
        "id": "RvUNtrUynlSQ"
      }
    },
    {
      "cell_type": "code",
      "source": [
        "device = torch.device(\"cuda:0\" if torch.cuda.is_available() else \"cpu\")\n",
        "\n",
        "# modify num_layer, d_model, num_head, d_ff while debugging your code\n",
        "model = Transformer(device=device,input_dim=3,num_layer=3,max_len=512,d_model=16,num_head=4,d_ff=32,drop_prob=.1).to(device)\n",
        "loss = nn.BCEWithLogitsLoss(reduction=\"mean\")\n",
        "optimizer = torch.optim.Adam(model.parameters(),betas=(.9,.98),eps=1e-9)\n",
        "scheduled_optimizer = ScheduledOptimizer(optimizer,d_model=16)"
      ],
      "metadata": {
        "id": "_3fDkmxrnoCS"
      },
      "execution_count": 637,
      "outputs": []
    },
    {
      "cell_type": "code",
      "source": [
        "# Epoch 설정\n",
        "num_epoch = 1"
      ],
      "metadata": {
        "id": "cJzSmEysmGaU"
      },
      "execution_count": 606,
      "outputs": []
    },
    {
      "cell_type": "markdown",
      "source": [
        "## **Train Model**"
      ],
      "metadata": {
        "id": "7DAaQSncl6v4"
      }
    },
    {
      "cell_type": "code",
      "source": [
        "train_loss_list, test_loss_list = list(), list()\n",
        "\n",
        "total_params = sum(p.numel() for p in model.parameters() if p.requires_grad)\n",
        "print(\"num_param:\", total_params)"
      ],
      "metadata": {
        "id": "koK2XayWmCuc",
        "colab": {
          "base_uri": "https://localhost:8080/"
        },
        "outputId": "6ced8179-0501-47f1-8f2c-8da2b36f4dbb"
      },
      "execution_count": 638,
      "outputs": [
        {
          "output_type": "stream",
          "name": "stdout",
          "text": [
            "num_param: 16883\n"
          ]
        }
      ]
    },
    {
      "cell_type": "markdown",
      "source": [
        "## **학습 결과**"
      ],
      "metadata": {
        "id": "V-tjSzjBmve3"
      }
    },
    {
      "cell_type": "code",
      "source": [
        "for i in range(num_epoch):\n",
        "    # train\n",
        "    model.train()\n",
        "\n",
        "    # initialize(epoch마다)\n",
        "    total_loss = 0\n",
        "    count = 0\n",
        "\n",
        "    # 50000/100 : iterate 500\n",
        "    for batch_idx, (image, label) in enumerate(train_loader):\n",
        "        image = image.reshape(-1,3,1024).transpose(1,2) # image.shape : torch.Size([100, 3, 32, 32]) -> torch.Size([100, 1024, 3])\n",
        "        x, y = image[:,:512,:].to(device), image[:,512:,:].to(device) # Crop : 3 * 32 * 32 사이즈 이미지의 윗부분\n",
        "\n",
        "        y_ = torch.zeros([y.shape[0],1,3],requires_grad=False).to(device)\n",
        "        y_ = torch.cat([y_,y[:,:-1,:]],dim=1) # 맨 윗부분이 0\n",
        "        '''\n",
        "        y_[0]\n",
        "\n",
        "        tensor([[0.0000, 0.0000, 0.0000],\n",
        "        [0.3098, 0.2078, 0.1412],\n",
        "        [0.4549, 0.4157, 0.3843],\n",
        "        ...,\n",
        "        [0.4745, 0.2392, 0.1294],\n",
        "        [0.4706, 0.2353, 0.1294],\n",
        "        [0.4275, 0.1922, 0.0941]])\n",
        "        '''\n",
        "\n",
        "        logit = model.forward(x,y_)\n",
        "        cost = loss(logit, y)\n",
        "\n",
        "        total_loss += cost.item() * y.shape[0]* y.shape[1] * y.shape[2] # 100*512*3\n",
        "\n",
        "        scheduled_optimizer.zero_grad()\n",
        "        cost.backward()\n",
        "        scheduled_optimizer.update_parameter_and_learning_rate()\n",
        "\n",
        "    ave_loss = total_loss/len(train_data)\n",
        "    train_loss_list.append(ave_loss)\n",
        "\n",
        "    if i % 1 == 0:\n",
        "        print(\"\\nEpoch %d Train: %.3f with Learning Rate: %.5f\"%(i,ave_loss, scheduled_optimizer.lr))\n",
        "\n",
        "    ## test\n",
        "    model.eval()\n",
        "\n",
        "    total_loss = 0\n",
        "    count = 0\n",
        "\n",
        "    with torch.no_grad():\n",
        "        for batch_idx, (image, label) in enumerate(test_loader):\n",
        "\n",
        "            image = image.reshape(-1,3,1024).transpose(1,2)\n",
        "            x, y = image[:,:512,:].to(device), image[:,512:,:].to(device)\n",
        "\n",
        "            y_ = torch.zeros([y.shape[0],1,3],requires_grad=False).to(device)\n",
        "            y_ = torch.cat([y_,y[:,:-1,:]],dim=1)\n",
        "\n",
        "            logit = model.forward(x,y_)\n",
        "            cost = loss(logit, y)\n",
        "\n",
        "            total_loss += cost.item() * y.shape[0] * y.shape[1] * y.shape[2]\n",
        "\n",
        "    ave_loss = total_loss/len(test_data)\n",
        "    test_loss_list.append(ave_loss)\n",
        "\n",
        "    if i % 1 == 0:\n",
        "        print(\"Epoch %d Test: %.3f\"%(i,ave_loss))"
      ],
      "metadata": {
        "id": "kOBuZW2nlwBu",
        "colab": {
          "base_uri": "https://localhost:8080/"
        },
        "outputId": "001192d7-105f-41f8-c555-d958eb8b10af"
      },
      "execution_count": 608,
      "outputs": [
        {
          "output_type": "stream",
          "name": "stdout",
          "text": [
            "\n",
            "Epoch 0 Train: 849.392 with Learning Rate: 0.00150\n",
            "Epoch 0 Test: 837.608\n",
            "\n",
            "Epoch 1 Train: 832.327 with Learning Rate: 0.00200\n",
            "Epoch 1 Test: 818.084\n",
            "\n",
            "Epoch 2 Train: 820.856 with Learning Rate: 0.00249\n",
            "Epoch 2 Test: 814.263\n",
            "\n",
            "Epoch 3 Train: 817.503 with Learning Rate: 0.00298\n",
            "Epoch 3 Test: 813.269\n",
            "\n",
            "Epoch 4 Train: 816.071 with Learning Rate: 0.00348\n",
            "Epoch 4 Test: 812.834\n",
            "\n",
            "Epoch 5 Train: 815.439 with Learning Rate: 0.00394\n",
            "Epoch 5 Test: 813.526\n",
            "\n",
            "Epoch 6 Train: 814.959 with Learning Rate: 0.00372\n",
            "Epoch 6 Test: 812.518\n",
            "\n",
            "Epoch 7 Train: 814.536 with Learning Rate: 0.00353\n",
            "Epoch 7 Test: 812.181\n",
            "\n",
            "Epoch 8 Train: 814.291 with Learning Rate: 0.00337\n",
            "Epoch 8 Test: 812.397\n",
            "\n",
            "Epoch 9 Train: 814.086 with Learning Rate: 0.00322\n",
            "Epoch 9 Test: 811.761\n"
          ]
        }
      ]
    },
    {
      "cell_type": "markdown",
      "source": [
        "## **Reference**\n",
        "- [Jonas Gehring, Michael Auli, David Grangier, Denis Yarats, and Yann N. Dauphin. Convolu\n",
        "tional sequence to sequence learning. arXiv preprint arXiv:1705.03122v2, 2017.](https://arxiv.org/pdf/1705.03122)\n",
        "- [Pytorch LayerNorm Document](https://pytorch.org/docs/stable/generated/torch.nn.LayerNorm.html)\n",
        "- [Positional encoding, residual connections, padding masks: covering the rest of Transformer components](https://data-science-blog.com/blog/2021/04/22/positional-encoding-residual-connections-padding-masks-all-the-details-of-transformer-model/)\n",
        "\n"
      ],
      "metadata": {
        "id": "OYQ9Ox8FNHBT"
      }
    }
  ]
}